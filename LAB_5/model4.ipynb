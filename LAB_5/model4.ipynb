{
 "cells": [
  {
   "cell_type": "code",
   "execution_count": 1,
   "metadata": {},
   "outputs": [],
   "source": [
    "import tensorflow as tf\n",
    "from tensorflow import keras\n",
    "from keras.datasets import mnist\n",
    "import numpy as np"
   ]
  },
  {
   "cell_type": "code",
   "execution_count": 2,
   "metadata": {},
   "outputs": [],
   "source": [
    "# Load MNIST dataset and preprocess\n",
    "from keras.utils import to_categorical\n",
    "\n",
    "(train_images, train_labels), (test_images, test_labels) = mnist.load_data()\n",
    "\n",
    "\n",
    "train_images, test_images = train_images / 255.0, test_images / 255.0\n",
    "\n",
    "\n",
    "# One-hot encode labels\n",
    "train_labels = to_categorical(train_labels, num_classes=10)\n",
    "test_labels = to_categorical(test_labels, num_classes=10)"
   ]
  },
  {
   "cell_type": "code",
   "execution_count": 3,
   "metadata": {},
   "outputs": [
    {
     "name": "stdout",
     "output_type": "stream",
     "text": [
      "Epoch 1/5\n",
      "375/375 [==============================] - 10s 23ms/step - loss: 1.3260 - accuracy: 0.4858 - val_loss: 0.9159 - val_accuracy: 0.6492\n",
      "Epoch 2/5\n",
      "375/375 [==============================] - 10s 27ms/step - loss: 0.8300 - accuracy: 0.7324 - val_loss: 0.6912 - val_accuracy: 0.7900\n",
      "Epoch 3/5\n",
      "375/375 [==============================] - 13s 34ms/step - loss: 0.6489 - accuracy: 0.8140 - val_loss: 0.5983 - val_accuracy: 0.8278\n",
      "Epoch 4/5\n",
      "375/375 [==============================] - 13s 33ms/step - loss: 0.5630 - accuracy: 0.8436 - val_loss: 0.5111 - val_accuracy: 0.8635\n",
      "Epoch 5/5\n",
      "375/375 [==============================] - 13s 34ms/step - loss: 0.5160 - accuracy: 0.8554 - val_loss: 0.4795 - val_accuracy: 0.8712\n",
      "313/313 [==============================] - 2s 7ms/step - loss: 0.4783 - accuracy: 0.8681\n",
      "Model-1 test accuracy: 0.8681\n",
      "Epoch 1/5\n",
      "375/375 [==============================] - 15s 35ms/step - loss: 0.6823 - accuracy: 0.7640 - val_loss: 0.3150 - val_accuracy: 0.9036\n",
      "Epoch 2/5\n",
      "375/375 [==============================] - 13s 35ms/step - loss: 0.3068 - accuracy: 0.9045 - val_loss: 0.2385 - val_accuracy: 0.9286\n",
      "Epoch 3/5\n",
      "375/375 [==============================] - 13s 34ms/step - loss: 0.2462 - accuracy: 0.9240 - val_loss: 0.2146 - val_accuracy: 0.9361\n",
      "Epoch 4/5\n",
      "375/375 [==============================] - 11s 30ms/step - loss: 0.2217 - accuracy: 0.9310 - val_loss: 0.2137 - val_accuracy: 0.9365\n",
      "Epoch 5/5\n",
      "375/375 [==============================] - 10s 25ms/step - loss: 0.1987 - accuracy: 0.9386 - val_loss: 0.1992 - val_accuracy: 0.9394\n",
      "313/313 [==============================] - 1s 4ms/step - loss: 0.1943 - accuracy: 0.9400\n",
      "Model-2 test accuracy: 0.9400\n",
      "Epoch 1/5\n",
      "375/375 [==============================] - 10s 24ms/step - loss: 1.7771 - accuracy: 0.2681 - val_loss: 1.5800 - val_accuracy: 0.3368\n",
      "Epoch 2/5\n",
      "375/375 [==============================] - 8s 23ms/step - loss: 1.5325 - accuracy: 0.3544 - val_loss: 1.4688 - val_accuracy: 0.3853\n",
      "Epoch 3/5\n",
      "375/375 [==============================] - 12s 32ms/step - loss: 1.4259 - accuracy: 0.3985 - val_loss: 1.3818 - val_accuracy: 0.4226\n",
      "Epoch 4/5\n",
      "375/375 [==============================] - 13s 35ms/step - loss: 1.3737 - accuracy: 0.4139 - val_loss: 1.3365 - val_accuracy: 0.4542\n",
      "Epoch 5/5\n",
      "375/375 [==============================] - 13s 33ms/step - loss: 1.3234 - accuracy: 0.4387 - val_loss: 1.3318 - val_accuracy: 0.4311\n",
      "313/313 [==============================] - 1s 3ms/step - loss: 1.3302 - accuracy: 0.4305\n",
      "Model-3 test accuracy: 0.4305\n"
     ]
    }
   ],
   "source": [
    "from keras.layers import Dense, Flatten, Conv2D, MaxPooling2D, AveragePooling2D, ZeroPadding2D\n",
    "from keras import models\n",
    "from keras.optimizers import Adam\n",
    "\n",
    "# Function to create and train the specified CNN model\n",
    "def create_and_train_model(model_number):\n",
    "    model = models.Sequential(name=f'Model-{model_number}')\n",
    "\n",
    "    # Model-3 architecture with zero padding\n",
    "    model.add(Conv2D(32, (3, 3), strides=(2, 2), padding='same', activation='relu', input_shape=(28, 28, 1)))\n",
    "    model.add(ZeroPadding2D(padding=(1, 1)))\n",
    "    model.add(MaxPooling2D((2, 2), strides=(1, 1)))\n",
    "    model.add(Conv2D(16, (4, 4), strides=(2, 2), activation='relu'))\n",
    "    model.add(MaxPooling2D((4, 4), strides=(2, 2)))\n",
    "    model.add(Flatten())\n",
    "    model.add(Dense(8, activation='relu'))\n",
    "    model.add(Dense(10, activation='softmax'))\n",
    "\n",
    "    # Compile the model\n",
    "    model.compile(optimizer=Adam(learning_rate=0.01), \n",
    "                  loss='categorical_crossentropy', \n",
    "                  metrics=['accuracy'])\n",
    "\n",
    "    # Reshape images to (28, 28, 1) for Conv2D layer\n",
    "    train_images_reshaped = train_images.reshape((-1, 28, 28, 1))\n",
    "    test_images_reshaped = test_images.reshape((-1, 28, 28, 1))\n",
    "\n",
    "    # Train the model\n",
    "    history = model.fit(train_images_reshaped, train_labels, \n",
    "                        epochs=5, batch_size=128, \n",
    "                        validation_split=0.2, verbose=1)\n",
    "    \n",
    "    #the history object contains the (Model Details) loss and accuracy of the model on the training and validation data\n",
    "    \n",
    "    # Evaluate the model on the test set\n",
    "    test_loss, test_accuracy = model.evaluate(test_images_reshaped, test_labels, verbose=1)\n",
    "\n",
    "    return test_accuracy\n",
    "\n",
    "\n",
    "num_models = 3\n",
    "test_accuracies = []\n",
    "\n",
    "for i in range(num_models):\n",
    "    acurracy = create_and_train_model(i+1)\n",
    "    test_accuracies.append(acurracy)\n",
    "    print(f'Model-{i+1} test accuracy: {acurracy:.4f}')\n",
    "\n",
    "# Compute the mean test accuracy\n",
    "mean_test_accuracy = np.mean(test_accuracies)"
   ]
  }
 ],
 "metadata": {
  "kernelspec": {
   "display_name": "jupyternotebook",
   "language": "python",
   "name": "jupyternotebook"
  },
  "language_info": {
   "codemirror_mode": {
    "name": "ipython",
    "version": 3
   },
   "file_extension": ".py",
   "mimetype": "text/x-python",
   "name": "python",
   "nbconvert_exporter": "python",
   "pygments_lexer": "ipython3",
   "version": "3.8.2"
  }
 },
 "nbformat": 4,
 "nbformat_minor": 2
}
