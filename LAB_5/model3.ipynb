{
 "cells": [
  {
   "cell_type": "code",
   "execution_count": 1,
   "metadata": {},
   "outputs": [],
   "source": [
    "import tensorflow as tf\n",
    "from tensorflow import keras\n",
    "from keras.datasets import mnist\n",
    "import numpy as np"
   ]
  },
  {
   "cell_type": "code",
   "execution_count": 2,
   "metadata": {},
   "outputs": [],
   "source": [
    "# Load MNIST dataset and preprocess\n",
    "from keras.utils import to_categorical\n",
    "\n",
    "(train_images, train_labels), (test_images, test_labels) = mnist.load_data()\n",
    "\n",
    "\n",
    "train_images, test_images = train_images / 255.0, test_images / 255.0\n",
    "\n",
    "\n",
    "# One-hot encode labels\n",
    "train_labels = to_categorical(train_labels, num_classes=10)\n",
    "test_labels = to_categorical(test_labels, num_classes=10)"
   ]
  },
  {
   "cell_type": "code",
   "execution_count": 3,
   "metadata": {},
   "outputs": [
    {
     "name": "stdout",
     "output_type": "stream",
     "text": [
      "Epoch 1/5\n",
      "375/375 [==============================] - 10s 23ms/step - loss: 1.1161 - accuracy: 0.6044 - val_loss: 0.6620 - val_accuracy: 0.7729\n",
      "Epoch 2/5\n",
      "375/375 [==============================] - 8s 21ms/step - loss: 0.5492 - accuracy: 0.8219 - val_loss: 0.3959 - val_accuracy: 0.8773\n",
      "Epoch 3/5\n",
      "375/375 [==============================] - 8s 20ms/step - loss: 0.3948 - accuracy: 0.8768 - val_loss: 0.3572 - val_accuracy: 0.8903\n",
      "Epoch 4/5\n",
      "375/375 [==============================] - 8s 21ms/step - loss: 0.3366 - accuracy: 0.8960 - val_loss: 0.2826 - val_accuracy: 0.9139\n",
      "Epoch 5/5\n",
      "375/375 [==============================] - 8s 23ms/step - loss: 0.3034 - accuracy: 0.9078 - val_loss: 0.2761 - val_accuracy: 0.9149\n",
      "313/313 [==============================] - 2s 6ms/step - loss: 0.2856 - accuracy: 0.9119\n",
      "Model-1 test accuracy: 0.9119\n",
      "Epoch 1/5\n",
      "375/375 [==============================] - 10s 23ms/step - loss: 0.7817 - accuracy: 0.7349 - val_loss: 0.4224 - val_accuracy: 0.8688\n",
      "Epoch 2/5\n",
      "375/375 [==============================] - 9s 23ms/step - loss: 0.3721 - accuracy: 0.8806 - val_loss: 0.3281 - val_accuracy: 0.9019\n",
      "Epoch 3/5\n",
      "375/375 [==============================] - 7s 20ms/step - loss: 0.2927 - accuracy: 0.9087 - val_loss: 0.2641 - val_accuracy: 0.9222\n",
      "Epoch 4/5\n",
      "375/375 [==============================] - 7s 20ms/step - loss: 0.2664 - accuracy: 0.9180 - val_loss: 0.2462 - val_accuracy: 0.9260\n",
      "Epoch 5/5\n",
      "375/375 [==============================] - 7s 20ms/step - loss: 0.2343 - accuracy: 0.9276 - val_loss: 0.2344 - val_accuracy: 0.9276\n",
      "313/313 [==============================] - 1s 4ms/step - loss: 0.2369 - accuracy: 0.9320\n",
      "Model-2 test accuracy: 0.9320\n",
      "Epoch 1/5\n",
      "375/375 [==============================] - 9s 20ms/step - loss: 1.0742 - accuracy: 0.6106 - val_loss: 0.5793 - val_accuracy: 0.8087\n",
      "Epoch 2/5\n",
      "375/375 [==============================] - 8s 20ms/step - loss: 0.5030 - accuracy: 0.8403 - val_loss: 0.4207 - val_accuracy: 0.8652\n",
      "Epoch 3/5\n",
      "375/375 [==============================] - 7s 20ms/step - loss: 0.4054 - accuracy: 0.8717 - val_loss: 0.3761 - val_accuracy: 0.8834\n",
      "Epoch 4/5\n",
      "375/375 [==============================] - 7s 20ms/step - loss: 0.3611 - accuracy: 0.8858 - val_loss: 0.3362 - val_accuracy: 0.8991\n",
      "Epoch 5/5\n",
      "375/375 [==============================] - 8s 21ms/step - loss: 0.3508 - accuracy: 0.8901 - val_loss: 0.3109 - val_accuracy: 0.9057\n",
      "313/313 [==============================] - 2s 6ms/step - loss: 0.3088 - accuracy: 0.9062\n",
      "Model-3 test accuracy: 0.9062\n"
     ]
    }
   ],
   "source": [
    "from keras.layers import Dense, Flatten, Conv2D, MaxPooling2D, AveragePooling2D, ZeroPadding2D\n",
    "from keras import models\n",
    "from keras.optimizers import Adam\n",
    "\n",
    "# Function to create and train the specified CNN model\n",
    "def create_and_train_model(model_number):\n",
    "    model = models.Sequential(name=f'Model-{model_number}')\n",
    "\n",
    "    # Model-2 architecture with specified convolution and max pooling layers\n",
    "    model.add(Conv2D(32, (3, 3), strides=(2, 2),activation='relu', input_shape=(28, 28, 1)))\n",
    "    model.add(MaxPooling2D((2, 2), strides=(1, 1)))\n",
    "    model.add(Conv2D(16, (4, 4), strides=(2, 2), activation='relu'))\n",
    "    model.add(MaxPooling2D((4, 4), strides=(2, 2)))\n",
    "    model.add(Flatten())\n",
    "    model.add(Dense(8, activation='relu'))\n",
    "    model.add(Dense(10, activation='softmax'))\n",
    "\n",
    "    # Compile the model\n",
    "    model.compile(optimizer=Adam(learning_rate=0.01), \n",
    "                  loss='categorical_crossentropy', \n",
    "                  metrics=['accuracy'])\n",
    "\n",
    "    # Reshape images to (28, 28, 1) for Conv2D layer\n",
    "    train_images_reshaped = train_images.reshape((-1, 28, 28, 1))\n",
    "    test_images_reshaped = test_images.reshape((-1, 28, 28, 1))\n",
    "\n",
    "    # Train the model\n",
    "    history = model.fit(train_images_reshaped, train_labels, \n",
    "                        epochs=5, batch_size=128, \n",
    "                        validation_split=0.2, verbose=1)\n",
    "    \n",
    "    #the history object contains the (Model Details) loss and accuracy of the model on the training and validation data\n",
    "    \n",
    "    # Evaluate the model on the test set\n",
    "    test_loss, test_accuracy = model.evaluate(test_images_reshaped, test_labels, verbose=1)\n",
    "\n",
    "    return test_accuracy\n",
    "\n",
    "\n",
    "num_models = 3\n",
    "test_accuracies = []\n",
    "\n",
    "for i in range(num_models):\n",
    "    acurracy = create_and_train_model(i+1)\n",
    "    test_accuracies.append(acurracy)\n",
    "    print(f'Model-{i+1} test accuracy: {acurracy:.4f}')\n",
    "\n",
    "# Compute the mean test accuracy\n",
    "mean_test_accuracy = np.mean(test_accuracies)"
   ]
  },
  {
   "cell_type": "code",
   "execution_count": null,
   "metadata": {},
   "outputs": [],
   "source": []
  }
 ],
 "metadata": {
  "kernelspec": {
   "display_name": "jupyternotebook",
   "language": "python",
   "name": "jupyternotebook"
  },
  "language_info": {
   "codemirror_mode": {
    "name": "ipython",
    "version": 3
   },
   "file_extension": ".py",
   "mimetype": "text/x-python",
   "name": "python",
   "nbconvert_exporter": "python",
   "pygments_lexer": "ipython3",
   "version": "3.8.2"
  }
 },
 "nbformat": 4,
 "nbformat_minor": 2
}
