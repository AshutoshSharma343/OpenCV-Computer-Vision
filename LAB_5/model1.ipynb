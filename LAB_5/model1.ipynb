{
 "cells": [
  {
   "cell_type": "code",
   "execution_count": 1,
   "metadata": {},
   "outputs": [],
   "source": [
    "import tensorflow as tf\n",
    "from tensorflow import keras\n",
    "from keras.datasets import mnist\n",
    "import numpy as np\n",
    "from keras.utils import to_categorical\n"
   ]
  },
  {
   "cell_type": "code",
   "execution_count": 2,
   "metadata": {},
   "outputs": [],
   "source": [
    "(train_images, train_labels), (test_images, test_labels) = mnist.load_data()\n",
    "\n",
    "\n",
    "train_images, test_images = train_images / 255.0, test_images / 255.0\n",
    "\n",
    "# One-hot encode labels\n",
    "train_labels = to_categorical(train_labels, num_classes=10)\n",
    "test_labels = to_categorical(test_labels, num_classes=10)"
   ]
  },
  {
   "cell_type": "code",
   "execution_count": 3,
   "metadata": {},
   "outputs": [
    {
     "name": "stdout",
     "output_type": "stream",
     "text": [
      "Epoch 1/5\n",
      "375/375 - 8s - loss: 1.0514 - accuracy: 0.6134 - val_loss: 0.5883 - val_accuracy: 0.8027 - 8s/epoch - 21ms/step\n",
      "Epoch 2/5\n",
      "375/375 - 6s - loss: 0.5001 - accuracy: 0.8408 - val_loss: 0.4036 - val_accuracy: 0.8763 - 6s/epoch - 16ms/step\n",
      "Epoch 3/5\n",
      "375/375 - 6s - loss: 0.3891 - accuracy: 0.8785 - val_loss: 0.3519 - val_accuracy: 0.8928 - 6s/epoch - 17ms/step\n",
      "Epoch 4/5\n",
      "375/375 - 6s - loss: 0.3382 - accuracy: 0.8949 - val_loss: 0.2975 - val_accuracy: 0.9126 - 6s/epoch - 17ms/step\n",
      "Epoch 5/5\n",
      "375/375 - 6s - loss: 0.3024 - accuracy: 0.9059 - val_loss: 0.2926 - val_accuracy: 0.9109 - 6s/epoch - 16ms/step\n",
      "313/313 - 1s - loss: 0.3040 - accuracy: 0.9108 - 929ms/epoch - 3ms/step\n",
      "Model-1 test accuracy: 0.9108\n",
      "Epoch 1/5\n",
      "375/375 - 7s - loss: 0.9279 - accuracy: 0.6909 - val_loss: 0.5219 - val_accuracy: 0.8371 - 7s/epoch - 20ms/step\n",
      "Epoch 2/5\n",
      "375/375 - 7s - loss: 0.4857 - accuracy: 0.8502 - val_loss: 0.4186 - val_accuracy: 0.8692 - 7s/epoch - 17ms/step\n",
      "Epoch 3/5\n",
      "375/375 - 6s - loss: 0.3936 - accuracy: 0.8805 - val_loss: 0.3702 - val_accuracy: 0.8910 - 6s/epoch - 17ms/step\n",
      "Epoch 4/5\n",
      "375/375 - 6s - loss: 0.3487 - accuracy: 0.8955 - val_loss: 0.3339 - val_accuracy: 0.9016 - 6s/epoch - 17ms/step\n",
      "Epoch 5/5\n",
      "375/375 - 6s - loss: 0.3020 - accuracy: 0.9090 - val_loss: 0.3217 - val_accuracy: 0.9023 - 6s/epoch - 17ms/step\n",
      "313/313 - 1s - loss: 0.3163 - accuracy: 0.9074 - 892ms/epoch - 3ms/step\n",
      "Model-2 test accuracy: 0.9074\n",
      "Epoch 1/5\n",
      "375/375 - 8s - loss: 0.9474 - accuracy: 0.6696 - val_loss: 0.6050 - val_accuracy: 0.7947 - 8s/epoch - 20ms/step\n",
      "Epoch 2/5\n",
      "375/375 - 7s - loss: 0.5354 - accuracy: 0.8274 - val_loss: 0.4282 - val_accuracy: 0.8663 - 7s/epoch - 17ms/step\n",
      "Epoch 3/5\n",
      "375/375 - 6s - loss: 0.4122 - accuracy: 0.8693 - val_loss: 0.3525 - val_accuracy: 0.8932 - 6s/epoch - 17ms/step\n",
      "Epoch 4/5\n",
      "375/375 - 7s - loss: 0.3584 - accuracy: 0.8867 - val_loss: 0.3281 - val_accuracy: 0.9013 - 7s/epoch - 18ms/step\n",
      "Epoch 5/5\n",
      "375/375 - 7s - loss: 0.3247 - accuracy: 0.8987 - val_loss: 0.2993 - val_accuracy: 0.9090 - 7s/epoch - 19ms/step\n",
      "313/313 - 1s - loss: 0.2925 - accuracy: 0.9078 - 989ms/epoch - 3ms/step\n",
      "Model-3 test accuracy: 0.9078\n",
      "Mean Test Accuracy across Models: 0.9086666703224182\n"
     ]
    }
   ],
   "source": [
    "from keras.layers import Dense, Flatten, Conv2D, MaxPooling2D\n",
    "from keras import models\n",
    "from keras.optimizers import Adam\n",
    "\n",
    "# Function to create and train the specified CNN model\n",
    "def create_and_train_model(model_number):\n",
    "    model = models.Sequential(name=f'Model-{model_number}')\n",
    "\n",
    "    # Model architecture\n",
    "    model.add(Conv2D(32, (3, 3), strides=(2, 2), activation='relu', input_shape=(28, 28, 1)))\n",
    "    model.add(MaxPooling2D((2, 2), strides=(1, 1)))\n",
    "    model.add(Conv2D(16, (4, 4), strides=(2, 2), activation='relu'))\n",
    "    model.add(MaxPooling2D((4, 4), strides=(2, 2)))\n",
    "    model.add(Flatten())\n",
    "    model.add(Dense(8, activation='relu'))\n",
    "    model.add(Dense(10, activation='softmax'))\n",
    "\n",
    "    # Compile the model\n",
    "    model.compile(optimizer=Adam(learning_rate=0.01), \n",
    "                  loss='categorical_crossentropy', \n",
    "                  metrics=['accuracy'])\n",
    "\n",
    "    # Reshape images to (28, 28, 1) for Conv2D layer\n",
    "    train_images_reshaped = train_images.reshape((-1, 28, 28, 1))\n",
    "    test_images_reshaped = test_images.reshape((-1, 28, 28, 1))\n",
    "\n",
    "    # Train the model\n",
    "    history = model.fit(train_images_reshaped, train_labels, \n",
    "                        epochs=5, batch_size=128, \n",
    "                        validation_split=0.2, verbose=1)\n",
    "    \n",
    "    # Evaluate the model on the test set\n",
    "    test_loss, test_accuracy = model.evaluate(test_images_reshaped, test_labels, verbose=2)\n",
    "\n",
    "    return test_accuracy\n",
    "\n",
    "\n",
    "num_models = 3\n",
    "test_accuracies = []\n",
    "\n",
    "for i in range(num_models):\n",
    "    acurracy = create_and_train_model(i+1)\n",
    "    test_accuracies.append(acurracy)\n",
    "    print(f'Model-{i+1} test accuracy: {acurracy:.4f}')\n",
    "\n",
    "# Compute the mean test accuracy\n",
    "mean_test_accuracy = np.mean(test_accuracies)\n",
    "print(f'Mean Test Accuracy across Models: {mean_test_accuracy}')"
   ]
  },
  {
   "cell_type": "code",
   "execution_count": null,
   "metadata": {},
   "outputs": [],
   "source": []
  }
 ],
 "metadata": {
  "kernelspec": {
   "display_name": "jupyternotebook",
   "language": "python",
   "name": "jupyternotebook"
  },
  "language_info": {
   "codemirror_mode": {
    "name": "ipython",
    "version": 3
   },
   "file_extension": ".py",
   "mimetype": "text/x-python",
   "name": "python",
   "nbconvert_exporter": "python",
   "pygments_lexer": "ipython3",
   "version": "3.8.2"
  }
 },
 "nbformat": 4,
 "nbformat_minor": 2
}
