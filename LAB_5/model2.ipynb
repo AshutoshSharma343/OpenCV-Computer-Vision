{
 "cells": [
  {
   "cell_type": "code",
   "execution_count": 1,
   "metadata": {},
   "outputs": [],
   "source": [
    "import tensorflow as tf\n",
    "from tensorflow import keras\n",
    "from keras.datasets import mnist\n",
    "import numpy as np"
   ]
  },
  {
   "cell_type": "code",
   "execution_count": 2,
   "metadata": {},
   "outputs": [],
   "source": [
    "# Load MNIST dataset and preprocess\n",
    "from keras.utils import to_categorical\n",
    "\n",
    "(train_images, train_labels), (test_images, test_labels) = mnist.load_data()\n",
    "\n",
    "\n",
    "train_images, test_images = train_images / 255.0, test_images / 255.0\n",
    "\n",
    "\n",
    "# One-hot encode labels\n",
    "train_labels = to_categorical(train_labels, num_classes=10)\n",
    "test_labels = to_categorical(test_labels, num_classes=10)"
   ]
  },
  {
   "cell_type": "code",
   "execution_count": 3,
   "metadata": {},
   "outputs": [
    {
     "name": "stdout",
     "output_type": "stream",
     "text": [
      "Epoch 1/5\n",
      "375/375 [==============================] - 12s 29ms/step - loss: 1.2000 - accuracy: 0.5648 - val_loss: 0.5695 - val_accuracy: 0.8130\n",
      "Epoch 2/5\n",
      "375/375 [==============================] - 5s 14ms/step - loss: 0.5413 - accuracy: 0.8226 - val_loss: 0.4618 - val_accuracy: 0.8542\n",
      "Epoch 3/5\n",
      "375/375 [==============================] - 5s 14ms/step - loss: 0.4359 - accuracy: 0.8621 - val_loss: 0.3641 - val_accuracy: 0.8873\n",
      "Epoch 4/5\n",
      "375/375 [==============================] - 6s 16ms/step - loss: 0.3556 - accuracy: 0.8890 - val_loss: 0.3376 - val_accuracy: 0.8964\n",
      "Epoch 5/5\n",
      "375/375 [==============================] - 8s 20ms/step - loss: 0.3152 - accuracy: 0.9020 - val_loss: 0.3272 - val_accuracy: 0.9001\n",
      "313/313 [==============================] - 2s 7ms/step - loss: 0.3187 - accuracy: 0.8966\n",
      "Model-1 test accuracy: 0.8966\n",
      "Epoch 1/5\n",
      "375/375 [==============================] - 7s 16ms/step - loss: 1.1892 - accuracy: 0.5911 - val_loss: 0.7123 - val_accuracy: 0.7725\n",
      "Epoch 2/5\n",
      "375/375 [==============================] - 6s 16ms/step - loss: 0.6772 - accuracy: 0.7848 - val_loss: 0.5714 - val_accuracy: 0.8235\n",
      "Epoch 3/5\n",
      "375/375 [==============================] - 6s 16ms/step - loss: 0.5403 - accuracy: 0.8291 - val_loss: 0.4484 - val_accuracy: 0.8601\n",
      "Epoch 4/5\n",
      "375/375 [==============================] - 6s 16ms/step - loss: 0.4724 - accuracy: 0.8511 - val_loss: 0.4739 - val_accuracy: 0.8478\n",
      "Epoch 5/5\n",
      "375/375 [==============================] - 6s 17ms/step - loss: 0.4291 - accuracy: 0.8654 - val_loss: 0.4315 - val_accuracy: 0.8645\n",
      "313/313 [==============================] - 1s 4ms/step - loss: 0.4362 - accuracy: 0.8586\n",
      "Model-2 test accuracy: 0.8586\n",
      "Epoch 1/5\n",
      "375/375 [==============================] - 7s 16ms/step - loss: 1.1265 - accuracy: 0.6059 - val_loss: 0.5867 - val_accuracy: 0.8157\n",
      "Epoch 2/5\n",
      "375/375 [==============================] - 6s 16ms/step - loss: 0.5033 - accuracy: 0.8454 - val_loss: 0.3985 - val_accuracy: 0.8818\n",
      "Epoch 3/5\n",
      "375/375 [==============================] - 7s 18ms/step - loss: 0.3706 - accuracy: 0.8886 - val_loss: 0.2845 - val_accuracy: 0.9147\n",
      "Epoch 4/5\n",
      "375/375 [==============================] - 6s 17ms/step - loss: 0.3079 - accuracy: 0.9055 - val_loss: 0.2566 - val_accuracy: 0.9260\n",
      "Epoch 5/5\n",
      "375/375 [==============================] - 6s 15ms/step - loss: 0.2706 - accuracy: 0.9167 - val_loss: 0.2409 - val_accuracy: 0.9297\n",
      "313/313 [==============================] - 2s 6ms/step - loss: 0.2207 - accuracy: 0.9329\n",
      "Model-3 test accuracy: 0.9329\n",
      "Mean Test Accuracy across Models: 0.8960333466529846\n"
     ]
    }
   ],
   "source": [
    "from keras.layers import Dense, Flatten, Conv2D, MaxPooling2D, AveragePooling2D\n",
    "from keras import models\n",
    "from keras.optimizers import Adam\n",
    "\n",
    "# Function to create and train the specified CNN model\n",
    "def create_and_train_model(model_number):\n",
    "    model = models.Sequential(name=f'Model-{model_number}')\n",
    "\n",
    "    # Model architecture\n",
    "    model.add(Conv2D(32, (3, 3), strides=(2, 2), activation='relu', input_shape=(28, 28, 1)))\n",
    "    model.add(AveragePooling2D((2, 2), strides=(1, 1)))\n",
    "    model.add(Conv2D(16, (4, 4), strides=(2, 2), activation='relu'))\n",
    "    model.add(AveragePooling2D((4, 4), strides=(2, 2)))\n",
    "    model.add(Flatten())\n",
    "    model.add(Dense(8, activation='relu'))\n",
    "    model.add(Dense(10, activation='softmax'))\n",
    "\n",
    "    # Compile the model\n",
    "    model.compile(optimizer=Adam(learning_rate=0.01), \n",
    "                  loss='categorical_crossentropy', \n",
    "                  metrics=['accuracy'])\n",
    "\n",
    "    # Reshape images to (28, 28, 1) for Conv2D layer\n",
    "    train_images_reshaped = train_images.reshape((-1, 28, 28, 1))\n",
    "    test_images_reshaped = test_images.reshape((-1, 28, 28, 1))\n",
    "\n",
    "    # Train the model\n",
    "    history = model.fit(train_images_reshaped, train_labels, \n",
    "                        epochs=5, batch_size=128, \n",
    "                        validation_split=0.2, verbose=1)\n",
    "    \n",
    "    #the history object contains the (Model Details) loss and accuracy of the model on the training and validation data\n",
    "    \n",
    "    # Evaluate the model on the test set\n",
    "    test_loss, test_accuracy = model.evaluate(test_images_reshaped, test_labels, verbose=1)\n",
    "\n",
    "    return test_accuracy\n",
    "\n",
    "\n",
    "num_models = 3\n",
    "test_accuracies = []\n",
    "\n",
    "for i in range(num_models):\n",
    "    acurracy = create_and_train_model(i+1)\n",
    "    test_accuracies.append(acurracy)\n",
    "    print(f'Model-{i+1} test accuracy: {acurracy:.4f}')\n",
    "\n",
    "# Compute the mean test accuracy\n",
    "mean_test_accuracy = np.mean(test_accuracies)\n",
    "print(f'Mean Test Accuracy across Models: {mean_test_accuracy}')"
   ]
  },
  {
   "cell_type": "code",
   "execution_count": null,
   "metadata": {},
   "outputs": [],
   "source": []
  }
 ],
 "metadata": {
  "kernelspec": {
   "display_name": "jupyternotebook",
   "language": "python",
   "name": "jupyternotebook"
  },
  "language_info": {
   "codemirror_mode": {
    "name": "ipython",
    "version": 3
   },
   "file_extension": ".py",
   "mimetype": "text/x-python",
   "name": "python",
   "nbconvert_exporter": "python",
   "pygments_lexer": "ipython3",
   "version": "3.8.2"
  }
 },
 "nbformat": 4,
 "nbformat_minor": 2
}
