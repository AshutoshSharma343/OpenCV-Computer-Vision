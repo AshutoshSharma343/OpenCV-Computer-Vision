{
 "cells": [
  {
   "cell_type": "code",
   "execution_count": 1,
   "id": "fac79533",
   "metadata": {},
   "outputs": [],
   "source": [
    "#pip install keras-tuner"
   ]
  },
  {
   "cell_type": "code",
   "execution_count": 2,
   "id": "ca31fce5",
   "metadata": {},
   "outputs": [],
   "source": [
    "import tensorflow as tf\n",
    "from tensorflow.keras import utils\n",
    "from tensorflow.keras.datasets import mnist\n",
    "import keras_tuner\n",
    "import keras\n",
    "import numpy as np"
   ]
  },
  {
   "cell_type": "code",
   "execution_count": 3,
   "id": "801c9caa",
   "metadata": {},
   "outputs": [],
   "source": [
    "# the data, shuffled and split between train and test sets \n",
    "(X_train, y_train), (X_test, y_test) = mnist.load_data()"
   ]
  },
  {
   "cell_type": "code",
   "execution_count": 4,
   "id": "b766d5fa",
   "metadata": {},
   "outputs": [
    {
     "name": "stdout",
     "output_type": "stream",
     "text": [
      "Number of training examples : 60000 and each image is of shape (28, 28)\n",
      "Number of training examples : 10000 and each image is of shape (28, 28)\n"
     ]
    }
   ],
   "source": [
    "print(\"Number of training examples :\", X_train.shape[0], \"and each image is of shape (%d, %d)\"%(X_train.shape[1], X_train.shape[2]))\n",
    "print(\"Number of training examples :\", X_test.shape[0], \"and each image is of shape (%d, %d)\"%(X_test.shape[1], X_test.shape[2]))"
   ]
  },
  {
   "cell_type": "code",
   "execution_count": 5,
   "id": "2f197115",
   "metadata": {},
   "outputs": [],
   "source": [
    "X_train = X_train/255\n",
    "X_test = X_test/255"
   ]
  },
  {
   "cell_type": "code",
   "execution_count": 6,
   "id": "c1285b5e",
   "metadata": {},
   "outputs": [],
   "source": [
    "Y_train = utils.to_categorical(y_train, 10) \n",
    "Y_test = utils.to_categorical(y_test, 10)"
   ]
  },
  {
   "cell_type": "code",
   "execution_count": 7,
   "id": "d4cd0cf0",
   "metadata": {},
   "outputs": [],
   "source": [
    "import keras\n",
    "from tensorflow.keras.models import Sequential \n",
    "from tensorflow.keras.layers import Dense, Activation,Dropout\n",
    "from keras.models import Model\n",
    "from keras.layers import Conv2D, MaxPooling2D, Flatten,AveragePooling2D\n"
   ]
  },
  {
   "cell_type": "code",
   "execution_count": 8,
   "id": "c4990ce2",
   "metadata": {},
   "outputs": [],
   "source": [
    "hp=keras_tuner.HyperParameters()"
   ]
  },
  {
   "cell_type": "code",
   "execution_count": 9,
   "id": "97f5ae76",
   "metadata": {},
   "outputs": [
    {
     "name": "stdout",
     "output_type": "stream",
     "text": [
      "Epoch 1/5\n",
      "938/938 [==============================] - 13s 13ms/step - loss: 2.3023 - accuracy: 0.1098 - val_loss: 2.3021 - val_accuracy: 0.1135\n",
      "Epoch 2/5\n",
      "938/938 [==============================] - 12s 12ms/step - loss: 2.3024 - accuracy: 0.1109 - val_loss: 2.3013 - val_accuracy: 0.1135\n",
      "Epoch 3/5\n",
      "938/938 [==============================] - 12s 13ms/step - loss: 2.3023 - accuracy: 0.1102 - val_loss: 2.3015 - val_accuracy: 0.1135\n",
      "Epoch 4/5\n",
      "934/938 [============================>.] - ETA: 0s - loss: 2.3020 - accuracy: 0.1098"
     ]
    }
   ],
   "source": [
    "model=Sequential()\n",
    "model.add(Conv2D(32, kernel_size=(3, 3),strides=(2,2), activation='relu',input_shape=(28,28,1)))\n",
    "model_type = hp.Choice(\"model_type\", [\"max\", \"avg\"])\n",
    "model_type = hp.Choice(\"model_type\", [\"max\", \"avg\"])\n",
    "with hp.conditional_scope(\"model_type\", [\"max\"]):\n",
    "            if model_type == \"max\":\n",
    "                model.add(MaxPooling2D(pool_size=(2,2),strides=(1,1)))\n",
    "                model.add(Conv2D(16, kernel_size=(4,4),strides=(2,2), activation='relu'))\n",
    "                model.add(MaxPooling2D(pool_size=(4,4),strides=(2,2)))\n",
    "with hp.conditional_scope(\"model_type\", [\"avg\"]):\n",
    "            if model_type == \"avg\":\n",
    "                model.add(AveragePooling2D(pool_size=(2,2),strides=(1,1)))\n",
    "                model.add(Conv2D(16, kernel_size=(4,4),strides=(2,2), activation='relu'))\n",
    "                model.add(AveragePooling2D(pool_size=(4,4),strides=(2,2)))\n",
    "\n",
    "model.add(Flatten())\n",
    "model.add(Dense(8, activation='relu'))\n",
    "model.add(Dense(10, activation='softmax'))\n",
    "\n",
    "\n",
    "model.compile(loss=keras.losses.categorical_crossentropy,\n",
    "                  optimizer=keras.optimizers.Adam(hp.Float(\n",
    "\"learning_rate\",\n",
    "min_value=0.01,\n",
    "max_value=0.15,\n",
    "step=10,\n",
    "sampling=\"log\")),\n",
    "     metrics=['accuracy'])\n",
    "model.fit(X_train,Y_train,\n",
    "batch_size=hp.Int(\n",
    "\"batch_size\",\n",
    "min_value=64,\n",
    "max_value=512,\n",
    "step=2,\n",
    "sampling=\"log\"),\n",
    "               epochs=5,\n",
    "               verbose=1,\n",
    "               validation_data=(X_test,Y_test))\n",
    "score = model.evaluate(X_test, Y_test, verbose=0)\n",
    "print('Test accuracy:', score[1])"
   ]
  },
  {
   "cell_type": "code",
   "execution_count": null,
   "id": "d84be28a",
   "metadata": {},
   "outputs": [],
   "source": []
  }
 ],
 "metadata": {
  "kernelspec": {
   "display_name": "jupyternotebook",
   "language": "python",
   "name": "jupyternotebook"
  },
  "language_info": {
   "codemirror_mode": {
    "name": "ipython",
    "version": 3
   },
   "file_extension": ".py",
   "mimetype": "text/x-python",
   "name": "python",
   "nbconvert_exporter": "python",
   "pygments_lexer": "ipython3",
   "version": "3.8.2"
  }
 },
 "nbformat": 4,
 "nbformat_minor": 5
}
