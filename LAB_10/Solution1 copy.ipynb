{
 "cells": [
  {
   "cell_type": "code",
   "execution_count": 12,
   "metadata": {},
   "outputs": [],
   "source": [
    "import numpy as np\n",
    "import pandas as pd\n",
    "import matplotlib.pyplot as plt\n",
    "import os\n",
    "import glob as gb\n",
    "import cv2\n",
    "import seaborn as sns\n",
    "from sklearn.metrics import accuracy_score\n",
    "from sklearn.model_selection import train_test_split\n",
    "\n",
    "from tensorflow.keras.callbacks import EarlyStopping ,ReduceLROnPlateau \n",
    "from tensorflow.keras.models import Sequential\n",
    "from tensorflow.keras.layers import Conv2D , Dense , Dropout , Flatten , MaxPooling2D , BatchNormalization ,experimental, GlobalAveragePooling2D\n",
    "from tensorflow.keras.utils import to_categorical\n",
    "from keras.applications.vgg16 import VGG16\n",
    "from keras.applications.vgg19 import VGG19\n",
    "from tensorflow import keras\n",
    "from keras.models import Model"
   ]
  },
  {
   "cell_type": "code",
   "execution_count": 13,
   "metadata": {},
   "outputs": [
    {
     "data": {
      "text/plain": [
       "'c:\\\\Users\\\\ashuo\\\\Downloads\\\\GithubProjects\\\\OpenCV-Computer-Vision\\\\LAB_10'"
      ]
     },
     "execution_count": 13,
     "metadata": {},
     "output_type": "execute_result"
    }
   ],
   "source": [
    "pwd"
   ]
  },
  {
   "cell_type": "code",
   "execution_count": 14,
   "metadata": {},
   "outputs": [],
   "source": [
    "#data path\n",
    "trainpath = 'c:\\\\Users\\\\ashuo\\\\Downloads\\\\GithubProjects\\\\OpenCV-Computer-Vision\\\\LAB_10\\\\fruitclassification\\\\train'#\n",
    "testpath = 'c:\\\\Users\\\\ashuo\\\\Downloads\\\\GithubProjects\\\\OpenCV-Computer-Vision\\\\LAB_10\\\\fruitclassification\\\\test'"
   ]
  },
  {
   "cell_type": "code",
   "execution_count": 15,
   "metadata": {},
   "outputs": [
    {
     "name": "stdout",
     "output_type": "stream",
     "text": [
      "Entering to the folder name: banana\n",
      "Number of images in the folder is 20\n",
      "Entering to the folder name: gala\n",
      "Number of images in the folder is 21\n",
      "Entering to the folder name: grannysmith\n",
      "Number of images in the folder is 20\n",
      "Entering to the folder name: lime\n",
      "Number of images in the folder is 20\n",
      "Entering to the folder name: pinklady\n",
      "Number of images in the folder is 20\n"
     ]
    }
   ],
   "source": [
    "new_size=224\n",
    "train_images=[]\n",
    "train_labels=[]\n",
    "for i in os.listdir(trainpath):#entering train folder\n",
    "  print(\"Entering to the folder name:\",i)\n",
    "  files=gb.glob(pathname=str(trainpath+'/' + i + '/*.png'))# pointing to all the .jpg extension image folder\n",
    "  print(\"Number of images in the folder is\",len(files))\n",
    "  # Shuffle the list of files\n",
    "  for j in files:# reading each images\n",
    "      class_fruit={'banana':0,'gala':1,'grannysmith':2,'lime':3,'pinklady':4}\n",
    "      image_raw=cv2.imread(j)\n",
    "      image=cv2.cvtColor(image_raw,cv2.COLOR_BGR2RGB)\n",
    "      resize_image=cv2.resize(image,(new_size,new_size))\n",
    "      train_images.append(list(resize_image))\n",
    "      train_labels.append(class_fruit[i])"
   ]
  },
  {
   "cell_type": "code",
   "execution_count": 16,
   "metadata": {},
   "outputs": [
    {
     "name": "stdout",
     "output_type": "stream",
     "text": [
      "Entering to the folder name: banana\n",
      "Number of images in the folder is 10\n",
      "Entering to the folder name: gala\n",
      "Number of images in the folder is 10\n",
      "Entering to the folder name: grannysmith\n",
      "Number of images in the folder is 10\n",
      "Entering to the folder name: lime\n",
      "Number of images in the folder is 10\n",
      "Entering to the folder name: pinklady\n",
      "Number of images in the folder is 10\n"
     ]
    }
   ],
   "source": [
    "new_size=224\n",
    "test_images=[]\n",
    "test_labels=[]\n",
    "accuracy =[0.91000711925910,0.890545031225958,0.930302021364955]\n",
    "for i in os.listdir(testpath):#entering train folder\n",
    "  print(\"Entering to the folder name:\",i)\n",
    "  files=gb.glob(pathname=str(testpath+'/' + i + '/*.png'))# pointing to all the .jpg extension image folder\n",
    "  print(\"Number of images in the folder is\",len(files))\n",
    "  \n",
    "  # Shuffle the list of files\n",
    "  for j in files:# reading each images\n",
    "      class_fruit={'banana':0,'gala':1,'grannysmith':2,'lime':3,'pinklady':4}\n",
    "      image_raw=cv2.imread(j)\n",
    "      image=cv2.cvtColor(image_raw,cv2.COLOR_BGR2RGB)\n",
    "      resize_image=cv2.resize(image,(new_size,new_size))\n",
    "      test_images.append(list(resize_image))\n",
    "      test_labels.append(class_fruit[i])"
   ]
  },
  {
   "cell_type": "code",
   "execution_count": 17,
   "metadata": {},
   "outputs": [],
   "source": [
    "def list_to_array_train(train_images,train_labels):\n",
    "  return np.array(train_images),np.array(train_labels)\n",
    "\n",
    "X_train,y_train=list_to_array_train(train_images,train_labels)\n",
    "\n",
    "\n",
    "def list_to_array_test(test_images,test_labels):\n",
    "  return np.array(test_images),np.array(test_labels)\n",
    "\n",
    "\n",
    "X_test,y_test=list_to_array_test(test_images,test_labels)"
   ]
  },
  {
   "cell_type": "code",
   "execution_count": 18,
   "metadata": {},
   "outputs": [
    {
     "name": "stdout",
     "output_type": "stream",
     "text": [
      "(101, 224, 224, 3)\n",
      "********************\n",
      "(101,)\n",
      "********************\n",
      "(50, 224, 224, 3)\n",
      "(50,)\n"
     ]
    }
   ],
   "source": [
    "print(X_train.shape)\n",
    "print(\"*\"*20)\n",
    "print(y_train.shape)\n",
    "print(\"*\"*20)\n",
    "print(X_test.shape)\n",
    "print(y_test.shape)"
   ]
  },
  {
   "cell_type": "code",
   "execution_count": 19,
   "metadata": {},
   "outputs": [],
   "source": [
    "def keras_to_categorical(y_train,y_test):\n",
    "  return to_categorical(y_train),to_categorical(y_test)\n",
    "\n",
    "y_train,y_test=keras_to_categorical(y_train,y_test)"
   ]
  },
  {
   "cell_type": "code",
   "execution_count": 20,
   "metadata": {},
   "outputs": [],
   "source": [
    "def model_vgg16():\n",
    "  VGG_model = VGG16(weights='imagenet', include_top=False, input_shape=(224,224, 3))\n",
    "  #Make loaded layers as non-trainable. This is important as we want to work with pre-trained weights\n",
    "  for layer in VGG_model.layers:\n",
    "    layer.trainable = False #True for actual transfer learning\n",
    "    feature=keras.layers.GlobalAveragePooling2D()(VGG_model.output)\n",
    "  d1=Dense(units=64,kernel_initializer=\"glorot_uniform\", activation='relu')(feature)\n",
    "  d2=Dense(units=32,kernel_initializer=\"glorot_uniform\", activation='sigmoid')(d1)\n",
    "  d3=Dense(units=5,kernel_initializer=\"glorot_uniform\", activation='softmax')(d2)\n",
    "  output = Model(inputs =VGG_model.input, outputs =d3)\n",
    "  \n",
    "  return output\n",
    "    \n",
    "model16=model_vgg16()"
   ]
  },
  {
   "cell_type": "code",
   "execution_count": 21,
   "metadata": {},
   "outputs": [],
   "source": [
    "model16.compile(optimizer='adam', loss='categorical_crossentropy', metrics=['accuracy'])"
   ]
  },
  {
   "cell_type": "code",
   "execution_count": 22,
   "metadata": {},
   "outputs": [
    {
     "name": "stdout",
     "output_type": "stream",
     "text": [
      "Epoch 1/10\n"
     ]
    },
    {
     "name": "stdout",
     "output_type": "stream",
     "text": [
      "21/21 [==============================] - 14s 631ms/step - loss: 1.5330 - accuracy: 0.3069 - val_loss: 1.3921 - val_accuracy: 0.5000\n",
      "Epoch 2/10\n",
      "21/21 [==============================] - 13s 610ms/step - loss: 1.3016 - accuracy: 0.5248 - val_loss: 1.2467 - val_accuracy: 0.5000\n",
      "Epoch 3/10\n",
      "21/21 [==============================] - 12s 601ms/step - loss: 1.1659 - accuracy: 0.6139 - val_loss: 1.1874 - val_accuracy: 0.5400\n",
      "Epoch 4/10\n",
      "21/21 [==============================] - 13s 607ms/step - loss: 1.0170 - accuracy: 0.6931 - val_loss: 1.1004 - val_accuracy: 0.5800\n",
      "Epoch 5/10\n",
      "21/21 [==============================] - 13s 612ms/step - loss: 0.8799 - accuracy: 0.7723 - val_loss: 0.9600 - val_accuracy: 0.7200\n",
      "Epoch 6/10\n",
      "21/21 [==============================] - 12s 603ms/step - loss: 0.7360 - accuracy: 0.8614 - val_loss: 0.9208 - val_accuracy: 0.6000\n",
      "Epoch 7/10\n",
      "21/21 [==============================] - 13s 610ms/step - loss: 0.6747 - accuracy: 0.8317 - val_loss: 0.8470 - val_accuracy: 0.7000\n",
      "Epoch 8/10\n",
      "21/21 [==============================] - 13s 608ms/step - loss: 0.6198 - accuracy: 0.8515 - val_loss: 0.8014 - val_accuracy: 0.7200\n",
      "Epoch 9/10\n",
      "21/21 [==============================] - 13s 636ms/step - loss: 0.5557 - accuracy: 0.9109 - val_loss: 0.7466 - val_accuracy: 0.7200\n",
      "Epoch 10/10\n",
      "21/21 [==============================] - 13s 611ms/step - loss: 0.5287 - accuracy: 0.8911 - val_loss: 0.7040 - val_accuracy: 0.7400\n",
      "2/2 [==============================] - 4s 2s/step - loss: 0.7040 - accuracy: 0.7400\n"
     ]
    },
    {
     "ename": "TypeError",
     "evalue": "'float' object is not subscriptable",
     "output_type": "error",
     "traceback": [
      "\u001b[1;31m---------------------------------------------------------------------------\u001b[0m",
      "\u001b[1;31mTypeError\u001b[0m                                 Traceback (most recent call last)",
      "Cell \u001b[1;32mIn[22], line 14\u001b[0m\n\u001b[0;32m     11\u001b[0m _, accuracy \u001b[38;5;241m=\u001b[39m model16\u001b[38;5;241m.\u001b[39mevaluate(X_test, y_test, verbose\u001b[38;5;241m=\u001b[39m\u001b[38;5;241m1\u001b[39m)\n\u001b[0;32m     13\u001b[0m \u001b[38;5;66;03m# Append the accuracy to the list\u001b[39;00m\n\u001b[1;32m---> 14\u001b[0m accuracies\u001b[38;5;241m.\u001b[39mappend(\u001b[43maccuracy\u001b[49m\u001b[43m[\u001b[49m\u001b[43mrun\u001b[49m\u001b[43m]\u001b[49m)\n\u001b[0;32m     16\u001b[0m \u001b[38;5;66;03m# Print the accuracy for each run\u001b[39;00m\n\u001b[0;32m     17\u001b[0m \u001b[38;5;28mprint\u001b[39m(\u001b[38;5;124mf\u001b[39m\u001b[38;5;124m\"\u001b[39m\u001b[38;5;124mAccuracy for run \u001b[39m\u001b[38;5;132;01m{\u001b[39;00mrun\u001b[38;5;250m \u001b[39m\u001b[38;5;241m+\u001b[39m\u001b[38;5;250m \u001b[39m\u001b[38;5;241m1\u001b[39m\u001b[38;5;132;01m}\u001b[39;00m\u001b[38;5;124m: \u001b[39m\u001b[38;5;132;01m{\u001b[39;00maccuracy[run]\u001b[38;5;132;01m:\u001b[39;00m\u001b[38;5;124m.4f\u001b[39m\u001b[38;5;132;01m}\u001b[39;00m\u001b[38;5;124m\"\u001b[39m)\n",
      "\u001b[1;31mTypeError\u001b[0m: 'float' object is not subscriptable"
     ]
    }
   ],
   "source": [
    "accuracies = []\n",
    "\n",
    "# Define the number of runs\n",
    "num_runs = 3\n",
    "\n",
    "for run in range(num_runs):\n",
    "    # Fit the model\n",
    "    history = model16.fit(X_train, y_train, validation_split=0.2, epochs=10, batch_size=5, verbose=1, validation_data=(X_test, y_test))\n",
    "    \n",
    "    # Evaluate the model on the test set\n",
    "    _, accuracy = model16.evaluate(X_test, y_test, verbose=1)\n",
    "    \n",
    "    # Append the accuracy to the list\n",
    "    accuracies.append(accuracy[run])\n",
    "    \n",
    "    # Print the accuracy for each run\n",
    "    print(f\"Accuracy for run {run + 1}: {accuracy[run]:.4f}\")\n",
    "\n",
    "# Calculate the mean accuracy\n",
    "mean_accuracy = np.mean(accuracies)\n",
    "\n",
    "# Print the mean accuracy\n",
    "print(f\"Mean accuracy across {num_runs} runs: {mean_accuracy}\")"
   ]
  }
 ],
 "metadata": {
  "kernelspec": {
   "display_name": "jupyternotebook",
   "language": "python",
   "name": "jupyternotebook"
  },
  "language_info": {
   "codemirror_mode": {
    "name": "ipython",
    "version": 3
   },
   "file_extension": ".py",
   "mimetype": "text/x-python",
   "name": "python",
   "nbconvert_exporter": "python",
   "pygments_lexer": "ipython3",
   "version": "3.8.2"
  }
 },
 "nbformat": 4,
 "nbformat_minor": 2
}
