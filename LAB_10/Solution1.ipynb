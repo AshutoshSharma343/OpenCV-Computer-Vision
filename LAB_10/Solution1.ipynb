{
 "cells": [
  {
   "cell_type": "code",
   "execution_count": 1,
   "metadata": {},
   "outputs": [],
   "source": [
    "import numpy as np\n",
    "import pandas as pd\n",
    "import matplotlib.pyplot as plt\n",
    "import os\n",
    "import glob as gb\n",
    "import cv2\n",
    "import seaborn as sns\n",
    "from sklearn.metrics import accuracy_score\n",
    "from sklearn.model_selection import train_test_split\n",
    "\n",
    "from tensorflow.keras.callbacks import EarlyStopping ,ReduceLROnPlateau \n",
    "from tensorflow.keras.models import Sequential\n",
    "from tensorflow.keras.layers import Conv2D , Dense , Dropout , Flatten , MaxPooling2D , BatchNormalization ,experimental, GlobalAveragePooling2D\n",
    "from tensorflow.keras.utils import to_categorical\n",
    "from keras.applications.vgg16 import VGG16\n",
    "from keras.applications.vgg19 import VGG19\n",
    "from tensorflow import keras\n",
    "from keras.models import Model"
   ]
  },
  {
   "cell_type": "code",
   "execution_count": 2,
   "metadata": {},
   "outputs": [
    {
     "data": {
      "text/plain": [
       "'c:\\\\Users\\\\ashuo\\\\Downloads\\\\GithubProjects\\\\OpenCV-Computer-Vision\\\\LAB_10'"
      ]
     },
     "execution_count": 2,
     "metadata": {},
     "output_type": "execute_result"
    }
   ],
   "source": [
    "pwd"
   ]
  },
  {
   "cell_type": "code",
   "execution_count": 3,
   "metadata": {},
   "outputs": [],
   "source": [
    "#data path\n",
    "trainpath = 'c:\\\\Users\\\\ashuo\\\\Downloads\\\\GithubProjects\\\\OpenCV-Computer-Vision\\\\LAB_10\\\\fruitclassification\\\\train'#\n",
    "testpath = 'c:\\\\Users\\\\ashuo\\\\Downloads\\\\GithubProjects\\\\OpenCV-Computer-Vision\\\\LAB_10\\\\fruitclassification\\\\test'"
   ]
  },
  {
   "cell_type": "code",
   "execution_count": 4,
   "metadata": {},
   "outputs": [
    {
     "name": "stdout",
     "output_type": "stream",
     "text": [
      "Entering to the folder name: banana\n",
      "Number of images in the folder is 20\n"
     ]
    },
    {
     "name": "stdout",
     "output_type": "stream",
     "text": [
      "Entering to the folder name: gala\n",
      "Number of images in the folder is 21\n",
      "Entering to the folder name: grannysmith\n",
      "Number of images in the folder is 20\n",
      "Entering to the folder name: lime\n",
      "Number of images in the folder is 20\n",
      "Entering to the folder name: pinklady\n",
      "Number of images in the folder is 20\n"
     ]
    }
   ],
   "source": [
    "new_size=224\n",
    "train_images=[]\n",
    "train_labels=[]\n",
    "for i in os.listdir(trainpath):#entering train folder\n",
    "  print(\"Entering to the folder name:\",i)\n",
    "  files=gb.glob(pathname=str(trainpath+'/' + i + '/*.png'))# pointing to all the .jpg extension image folder\n",
    "  print(\"Number of images in the folder is\",len(files))\n",
    "  # Shuffle the list of files\n",
    "  for j in files:# reading each images\n",
    "      class_fruit={'banana':0,'gala':1,'grannysmith':2,'lime':3,'pinklady':4}\n",
    "      image_raw=cv2.imread(j)\n",
    "      image=cv2.cvtColor(image_raw,cv2.COLOR_BGR2RGB)\n",
    "      resize_image=cv2.resize(image,(new_size,new_size))\n",
    "      train_images.append(list(resize_image))\n",
    "      train_labels.append(class_fruit[i])"
   ]
  },
  {
   "cell_type": "code",
   "execution_count": 5,
   "metadata": {},
   "outputs": [
    {
     "name": "stdout",
     "output_type": "stream",
     "text": [
      "Entering to the folder name: banana\n",
      "Number of images in the folder is 10\n",
      "Entering to the folder name: gala\n",
      "Number of images in the folder is 10\n",
      "Entering to the folder name: grannysmith\n",
      "Number of images in the folder is 10\n",
      "Entering to the folder name: lime\n",
      "Number of images in the folder is 10\n",
      "Entering to the folder name: pinklady\n",
      "Number of images in the folder is 10\n"
     ]
    }
   ],
   "source": [
    "new_size=224\n",
    "test_images=[]\n",
    "test_labels=[]\n",
    "for i in os.listdir(testpath):#entering train folder\n",
    "  print(\"Entering to the folder name:\",i)\n",
    "  files=gb.glob(pathname=str(testpath+'/' + i + '/*.png'))# pointing to all the .jpg extension image folder\n",
    "  print(\"Number of images in the folder is\",len(files))\n",
    "  \n",
    "  # Shuffle the list of files\n",
    "  for j in files:# reading each images\n",
    "      class_fruit={'banana':0,'gala':1,'grannysmith':2,'lime':3,'pinklady':4}\n",
    "      image_raw=cv2.imread(j)\n",
    "      image=cv2.cvtColor(image_raw,cv2.COLOR_BGR2RGB)\n",
    "      resize_image=cv2.resize(image,(new_size,new_size))\n",
    "      test_images.append(list(resize_image))\n",
    "      test_labels.append(class_fruit[i])"
   ]
  },
  {
   "cell_type": "code",
   "execution_count": 6,
   "metadata": {},
   "outputs": [],
   "source": [
    "def list_to_array_train(train_images,train_labels):\n",
    "  return np.array(train_images),np.array(train_labels)\n",
    "\n",
    "X_train,y_train=list_to_array_train(train_images,train_labels)\n",
    "\n",
    "\n",
    "def list_to_array_test(test_images,test_labels):\n",
    "  return np.array(test_images),np.array(test_labels)\n",
    "\n",
    "\n",
    "X_test,y_test=list_to_array_test(test_images,test_labels)"
   ]
  },
  {
   "cell_type": "code",
   "execution_count": 7,
   "metadata": {},
   "outputs": [
    {
     "name": "stdout",
     "output_type": "stream",
     "text": [
      "(101, 224, 224, 3)\n",
      "********************\n",
      "(101,)\n",
      "********************\n",
      "(50, 224, 224, 3)\n",
      "(50,)\n"
     ]
    }
   ],
   "source": [
    "print(X_train.shape)\n",
    "print(\"*\"*20)\n",
    "print(y_train.shape)\n",
    "print(\"*\"*20)\n",
    "print(X_test.shape)\n",
    "print(y_test.shape)"
   ]
  },
  {
   "cell_type": "code",
   "execution_count": 8,
   "metadata": {},
   "outputs": [],
   "source": [
    "def keras_to_categorical(y_train,y_test):\n",
    "  return to_categorical(y_train),to_categorical(y_test)\n",
    "\n",
    "y_train,y_test=keras_to_categorical(y_train,y_test)"
   ]
  },
  {
   "cell_type": "code",
   "execution_count": 9,
   "metadata": {},
   "outputs": [],
   "source": [
    "def model_vgg16():\n",
    "  VGG_model = VGG16(weights='imagenet', include_top=False, input_shape=(224,224, 3))\n",
    "  #Make loaded layers as non-trainable. This is important as we want to work with pre-trained weights\n",
    "  for layer in VGG_model.layers:\n",
    "    layer.trainable = False #True for actual transfer learning\n",
    "    feature=keras.layers.GlobalAveragePooling2D()(VGG_model.output)\n",
    "  d1=Dense(units=64,kernel_initializer=\"glorot_uniform\", activation='relu')(feature)\n",
    "  d2=Dense(units=32,kernel_initializer=\"glorot_uniform\", activation='sigmoid')(d1)\n",
    "  d3=Dense(units=5,kernel_initializer=\"glorot_uniform\", activation='softmax')(d2)\n",
    "  output = Model(inputs =VGG_model.input, outputs =d3)\n",
    "  \n",
    "  return output\n",
    "    \n",
    "model16=model_vgg16()"
   ]
  },
  {
   "cell_type": "code",
   "execution_count": 10,
   "metadata": {},
   "outputs": [],
   "source": [
    "model16.compile(optimizer='adam', loss='categorical_crossentropy', metrics=['accuracy'])"
   ]
  },
  {
   "cell_type": "code",
   "execution_count": 11,
   "metadata": {},
   "outputs": [
    {
     "name": "stdout",
     "output_type": "stream",
     "text": [
      "Epoch 1/10\n",
      "21/21 [==============================] - 14s 646ms/step - loss: 1.5281 - accuracy: 0.3366 - val_loss: 1.3608 - val_accuracy: 0.4400\n",
      "Epoch 2/10\n",
      "21/21 [==============================] - 13s 615ms/step - loss: 1.2763 - accuracy: 0.5545 - val_loss: 1.1980 - val_accuracy: 0.5400\n",
      "Epoch 3/10\n",
      "21/21 [==============================] - 14s 659ms/step - loss: 1.1099 - accuracy: 0.6436 - val_loss: 1.0656 - val_accuracy: 0.7000\n",
      "Epoch 4/10\n",
      "21/21 [==============================] - 19s 914ms/step - loss: 0.9828 - accuracy: 0.7129 - val_loss: 0.9795 - val_accuracy: 0.7200\n",
      "Epoch 5/10\n",
      "21/21 [==============================] - 19s 904ms/step - loss: 0.8451 - accuracy: 0.7723 - val_loss: 0.9296 - val_accuracy: 0.7000\n",
      "Epoch 6/10\n",
      "21/21 [==============================] - 19s 915ms/step - loss: 0.7437 - accuracy: 0.7921 - val_loss: 0.8274 - val_accuracy: 0.7400\n",
      "Epoch 7/10\n",
      "21/21 [==============================] - 19s 933ms/step - loss: 0.6529 - accuracy: 0.8317 - val_loss: 0.7949 - val_accuracy: 0.6800\n",
      "Epoch 8/10\n",
      "21/21 [==============================] - 18s 866ms/step - loss: 0.5912 - accuracy: 0.8614 - val_loss: 0.7367 - val_accuracy: 0.7400\n",
      "Epoch 9/10\n",
      "21/21 [==============================] - 13s 651ms/step - loss: 0.5506 - accuracy: 0.8614 - val_loss: 0.7053 - val_accuracy: 0.7600\n",
      "Epoch 10/10\n",
      "21/21 [==============================] - 19s 903ms/step - loss: 0.4928 - accuracy: 0.8614 - val_loss: 0.6588 - val_accuracy: 0.8000\n",
      "2/2 - 6s - loss: 0.6588 - accuracy: 0.8000 - 6s/epoch - 3s/step\n",
      "Accuracy for run 1: 0.800000011920929\n",
      "Epoch 1/10\n",
      "21/21 [==============================] - 19s 899ms/step - loss: 0.4254 - accuracy: 0.8911 - val_loss: 0.6719 - val_accuracy: 0.7400\n",
      "Epoch 2/10\n",
      "21/21 [==============================] - 13s 618ms/step - loss: 0.3955 - accuracy: 0.8812 - val_loss: 0.7149 - val_accuracy: 0.6600\n",
      "Epoch 3/10\n",
      "21/21 [==============================] - 13s 607ms/step - loss: 0.4607 - accuracy: 0.8911 - val_loss: 0.6027 - val_accuracy: 0.7600\n",
      "Epoch 4/10\n",
      "21/21 [==============================] - 13s 630ms/step - loss: 0.3526 - accuracy: 0.9307 - val_loss: 0.5625 - val_accuracy: 0.8000\n",
      "Epoch 5/10\n",
      "21/21 [==============================] - 12s 599ms/step - loss: 0.3170 - accuracy: 0.9406 - val_loss: 0.5642 - val_accuracy: 0.7800\n",
      "Epoch 6/10\n",
      "21/21 [==============================] - 13s 618ms/step - loss: 0.2900 - accuracy: 0.9406 - val_loss: 0.5513 - val_accuracy: 0.8600\n",
      "Epoch 7/10\n",
      "21/21 [==============================] - 13s 651ms/step - loss: 0.2793 - accuracy: 0.9307 - val_loss: 0.5059 - val_accuracy: 0.8000\n",
      "Epoch 8/10\n",
      "21/21 [==============================] - 13s 645ms/step - loss: 0.2321 - accuracy: 0.9802 - val_loss: 0.5634 - val_accuracy: 0.8000\n",
      "Epoch 9/10\n",
      "21/21 [==============================] - 13s 615ms/step - loss: 0.2362 - accuracy: 0.9604 - val_loss: 0.7210 - val_accuracy: 0.7200\n",
      "Epoch 10/10\n",
      "21/21 [==============================] - 16s 756ms/step - loss: 0.1983 - accuracy: 0.9802 - val_loss: 0.4980 - val_accuracy: 0.8000\n",
      "2/2 - 4s - loss: 0.4980 - accuracy: 0.8000 - 4s/epoch - 2s/step\n",
      "Accuracy for run 2: 0.800000011920929\n",
      "Epoch 1/10\n",
      "21/21 [==============================] - 16s 779ms/step - loss: 0.1809 - accuracy: 0.9604 - val_loss: 0.4675 - val_accuracy: 0.8000\n",
      "Epoch 2/10\n",
      "21/21 [==============================] - 12s 591ms/step - loss: 0.1497 - accuracy: 0.9901 - val_loss: 0.4997 - val_accuracy: 0.8000\n",
      "Epoch 3/10\n",
      "21/21 [==============================] - 12s 593ms/step - loss: 0.1936 - accuracy: 0.9604 - val_loss: 0.5613 - val_accuracy: 0.8200\n",
      "Epoch 4/10\n",
      "21/21 [==============================] - 13s 607ms/step - loss: 0.1393 - accuracy: 0.9703 - val_loss: 0.5728 - val_accuracy: 0.7600\n",
      "Epoch 5/10\n",
      "21/21 [==============================] - 13s 635ms/step - loss: 0.1158 - accuracy: 1.0000 - val_loss: 0.5511 - val_accuracy: 0.8000\n",
      "Epoch 6/10\n",
      "21/21 [==============================] - 13s 623ms/step - loss: 0.1151 - accuracy: 0.9901 - val_loss: 0.4995 - val_accuracy: 0.8200\n",
      "Epoch 7/10\n",
      "21/21 [==============================] - 14s 662ms/step - loss: 0.0984 - accuracy: 1.0000 - val_loss: 0.5521 - val_accuracy: 0.7800\n",
      "Epoch 8/10\n",
      "21/21 [==============================] - 13s 633ms/step - loss: 0.0957 - accuracy: 1.0000 - val_loss: 0.4790 - val_accuracy: 0.8000\n",
      "Epoch 9/10\n",
      "21/21 [==============================] - 14s 673ms/step - loss: 0.0988 - accuracy: 0.9901 - val_loss: 0.4544 - val_accuracy: 0.8600\n",
      "Epoch 10/10\n",
      "21/21 [==============================] - 12s 587ms/step - loss: 0.0880 - accuracy: 0.9901 - val_loss: 0.5840 - val_accuracy: 0.7800\n",
      "2/2 - 4s - loss: 0.5840 - accuracy: 0.7800 - 4s/epoch - 2s/step\n",
      "Accuracy for run 3: 0.7799999713897705\n",
      "Mean accuracy across 3 runs: 0.7933333317438761\n"
     ]
    }
   ],
   "source": [
    "accuracies = []\n",
    "\n",
    "# Define the number of runs\n",
    "num_runs = 3\n",
    "\n",
    "for run in range(num_runs):\n",
    "    # Fit the model\n",
    "    history = model16.fit(X_train, y_train, validation_split=0.2, epochs=10, batch_size=5, verbose=1, validation_data=(X_test, y_test))\n",
    "    \n",
    "    # Evaluate the model on the test set\n",
    "    _, accuracy = model16.evaluate(X_test, y_test, verbose=2)\n",
    "    \n",
    "    # Append the accuracy to the list\n",
    "    accuracies.append(accuracy)\n",
    "    \n",
    "    # Print the accuracy for each run\n",
    "    print(f\"Accuracy for run {run + 1}: {accuracy}\")\n",
    "\n",
    "# Calculate the mean accuracy\n",
    "mean_accuracy = np.mean(accuracies)\n",
    "\n",
    "# Print the mean accuracy\n",
    "print(f\"Mean accuracy across {num_runs} runs: {mean_accuracy}\")"
   ]
  }
 ],
 "metadata": {
  "kernelspec": {
   "display_name": "jupyternotebook",
   "language": "python",
   "name": "jupyternotebook"
  },
  "language_info": {
   "codemirror_mode": {
    "name": "ipython",
    "version": 3
   },
   "file_extension": ".py",
   "mimetype": "text/x-python",
   "name": "python",
   "nbconvert_exporter": "python",
   "pygments_lexer": "ipython3",
   "version": "3.8.2"
  }
 },
 "nbformat": 4,
 "nbformat_minor": 2
}
