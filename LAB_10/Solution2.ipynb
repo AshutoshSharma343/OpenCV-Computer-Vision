{
 "cells": [
  {
   "cell_type": "code",
   "execution_count": 1,
   "metadata": {},
   "outputs": [],
   "source": [
    "import numpy as np\n",
    "import pandas as pd\n",
    "import matplotlib.pyplot as plt\n",
    "import os\n",
    "import glob as gb\n",
    "import cv2\n",
    "import seaborn as sns\n",
    "from sklearn.metrics import accuracy_score\n",
    "from sklearn.model_selection import train_test_split\n",
    "\n",
    "from tensorflow.keras.callbacks import EarlyStopping ,ReduceLROnPlateau \n",
    "from tensorflow.keras.models import Sequential\n",
    "from tensorflow.keras.layers import Conv2D , Dense , Dropout , Flatten , MaxPooling2D , BatchNormalization ,experimental\n",
    "from tensorflow.keras.utils import to_categorical\n",
    "from keras.applications.vgg16 import VGG16\n",
    "from keras.applications.vgg19 import VGG19\n",
    "from tensorflow import keras\n",
    "from keras.models import Model"
   ]
  },
  {
   "cell_type": "code",
   "execution_count": 2,
   "metadata": {},
   "outputs": [
    {
     "data": {
      "text/plain": [
       "'c:\\\\Users\\\\ashuo\\\\Downloads\\\\GithubProjects\\\\OpenCV-Computer-Vision\\\\LAB_10'"
      ]
     },
     "execution_count": 2,
     "metadata": {},
     "output_type": "execute_result"
    }
   ],
   "source": [
    "pwd"
   ]
  },
  {
   "cell_type": "code",
   "execution_count": 3,
   "metadata": {},
   "outputs": [],
   "source": [
    "#data path\n",
    "trainpath = 'c:\\\\Users\\\\ashuo\\\\Downloads\\\\GithubProjects\\\\OpenCV-Computer-Vision\\\\LAB_10\\\\fruitclassification\\\\train'#\n",
    "testpath = 'c:\\\\Users\\\\ashuo\\\\Downloads\\\\GithubProjects\\\\OpenCV-Computer-Vision\\\\LAB_10\\\\fruitclassification\\\\test'"
   ]
  },
  {
   "cell_type": "code",
   "execution_count": 4,
   "metadata": {},
   "outputs": [
    {
     "name": "stdout",
     "output_type": "stream",
     "text": [
      "Entering to the folder name: banana\n",
      "Number of images in the folder is 20\n",
      "Entering to the folder name: gala\n",
      "Number of images in the folder is 21\n",
      "Entering to the folder name: grannysmith\n",
      "Number of images in the folder is 20\n",
      "Entering to the folder name: lime\n",
      "Number of images in the folder is 20\n",
      "Entering to the folder name: pinklady\n",
      "Number of images in the folder is 20\n"
     ]
    }
   ],
   "source": [
    "new_size=224\n",
    "train_images=[]\n",
    "train_labels=[]\n",
    "for i in os.listdir(trainpath):#entering train folder\n",
    "  print(\"Entering to the folder name:\",i)\n",
    "  files=gb.glob(pathname=str(trainpath+'/' + i + '/*.png'))# pointing to all the .jpg extension image folder\n",
    "  print(\"Number of images in the folder is\",len(files))\n",
    "  for j in files:# reading each images\n",
    "      class_fruit={'banana':0,'gala':1,'grannysmith':2,'lime':3,'pinklady':4}\n",
    "      image_raw=cv2.imread(j)\n",
    "      image=cv2.cvtColor(image_raw,cv2.COLOR_BGR2RGB)\n",
    "      resize_image=cv2.resize(image,(new_size,new_size))\n",
    "      train_images.append(list(resize_image))\n",
    "      train_labels.append(class_fruit[i])"
   ]
  },
  {
   "cell_type": "code",
   "execution_count": 5,
   "metadata": {},
   "outputs": [
    {
     "name": "stdout",
     "output_type": "stream",
     "text": [
      "Entering to the folder name: banana\n",
      "Number of images in the folder is 10\n",
      "Entering to the folder name: gala\n",
      "Number of images in the folder is 10\n",
      "Entering to the folder name: grannysmith\n",
      "Number of images in the folder is 10\n",
      "Entering to the folder name: lime\n",
      "Number of images in the folder is 10\n",
      "Entering to the folder name: pinklady\n",
      "Number of images in the folder is 10\n"
     ]
    }
   ],
   "source": [
    "new_size=224\n",
    "test_images=[]\n",
    "test_labels=[]\n",
    "for i in os.listdir(testpath):#entering train folder\n",
    "  print(\"Entering to the folder name:\",i)\n",
    "  files=gb.glob(pathname=str(testpath+'/' + i + '/*.png'))# pointing to all the .jpg extension image folder\n",
    "  print(\"Number of images in the folder is\",len(files))\n",
    "  for j in files:# reading each images\n",
    "      class_fruit={'banana':0,'gala':1,'grannysmith':2,'lime':3,'pinklady':4}\n",
    "      image_raw=cv2.imread(j)\n",
    "      image=cv2.cvtColor(image_raw,cv2.COLOR_BGR2RGB)\n",
    "      resize_image=cv2.resize(image,(new_size,new_size))\n",
    "      test_images.append(list(resize_image))\n",
    "      test_labels.append(class_fruit[i])"
   ]
  },
  {
   "cell_type": "code",
   "execution_count": 6,
   "metadata": {},
   "outputs": [],
   "source": [
    "def list_to_array_train(train_images,train_labels):\n",
    "  return np.array(train_images),np.array(train_labels)\n",
    "\n",
    "X_train,y_train=list_to_array_train(train_images,train_labels)\n",
    "\n",
    "\n",
    "def list_to_array_test(test_images,test_labels):\n",
    "  return np.array(test_images),np.array(test_labels)\n",
    "\n",
    "\n",
    "X_test,y_test=list_to_array_test(test_images,test_labels)"
   ]
  },
  {
   "cell_type": "code",
   "execution_count": 7,
   "metadata": {},
   "outputs": [
    {
     "name": "stdout",
     "output_type": "stream",
     "text": [
      "(101, 224, 224, 3)\n",
      "********************\n",
      "(101,)\n",
      "********************\n",
      "(50, 224, 224, 3)\n",
      "(50,)\n"
     ]
    }
   ],
   "source": [
    "print(X_train.shape)\n",
    "print(\"*\"*20)\n",
    "print(y_train.shape)\n",
    "print(\"*\"*20)\n",
    "print(X_test.shape)\n",
    "print(y_test.shape)"
   ]
  },
  {
   "cell_type": "code",
   "execution_count": 8,
   "metadata": {},
   "outputs": [],
   "source": [
    "def keras_to_categorical(y_train,y_test):\n",
    "  return to_categorical(y_train),to_categorical(y_test)\n",
    "\n",
    "y_train,y_test=keras_to_categorical(y_train,y_test)"
   ]
  },
  {
   "cell_type": "code",
   "execution_count": 9,
   "metadata": {},
   "outputs": [
    {
     "name": "stdout",
     "output_type": "stream",
     "text": [
      "Epoch 1/10\n",
      "2/2 [==============================] - 15s 3s/step - loss: 10.2224 - accuracy: 0.2625 - val_loss: 398.1025 - val_accuracy: 0.0000e+00\n",
      "Epoch 2/10\n",
      "2/2 [==============================] - 11s 3s/step - loss: 34.8728 - accuracy: 0.2750 - val_loss: 1.5406 - val_accuracy: 0.0476\n",
      "Epoch 3/10\n",
      "2/2 [==============================] - 11s 3s/step - loss: 3.9568 - accuracy: 0.2625 - val_loss: 2.1122 - val_accuracy: 0.0000e+00\n",
      "Epoch 4/10\n",
      "2/2 [==============================] - 10s 2s/step - loss: 1.6402 - accuracy: 0.2500 - val_loss: 2.7587 - val_accuracy: 0.0000e+00\n",
      "Epoch 5/10\n",
      "2/2 [==============================] - 11s 2s/step - loss: 1.3978 - accuracy: 0.3500 - val_loss: 2.9361 - val_accuracy: 0.0000e+00\n",
      "Epoch 6/10\n",
      "2/2 [==============================] - 10s 2s/step - loss: 1.2813 - accuracy: 0.4625 - val_loss: 4.3056 - val_accuracy: 0.0000e+00\n",
      "Epoch 7/10\n",
      "2/2 [==============================] - 10s 2s/step - loss: 1.5447 - accuracy: 0.3375 - val_loss: 3.0954 - val_accuracy: 0.0000e+00\n",
      "Epoch 8/10\n",
      "2/2 [==============================] - 11s 3s/step - loss: 1.1669 - accuracy: 0.5375 - val_loss: 3.2866 - val_accuracy: 0.0000e+00\n",
      "Epoch 9/10\n",
      "2/2 [==============================] - 10s 2s/step - loss: 0.9879 - accuracy: 0.5750 - val_loss: 3.6621 - val_accuracy: 0.0000e+00\n",
      "Epoch 10/10\n",
      "2/2 [==============================] - 11s 3s/step - loss: 0.9286 - accuracy: 0.6125 - val_loss: 3.9870 - val_accuracy: 0.0000e+00\n",
      "2/2 - 1s - loss: 2.6708 - accuracy: 0.2000 - 827ms/epoch - 414ms/step\n",
      "Model-1 test accuracy: 0.2000\n",
      "Mean Test Accuracy across Models: 0.20000000298023224\n"
     ]
    }
   ],
   "source": [
    "from keras.layers import Dense, Flatten, Conv2D, MaxPooling2D, AveragePooling2D, ZeroPadding2D\n",
    "from keras import models\n",
    "from keras.optimizers import Adam, SGD\n",
    "from keras.models import Sequential\n",
    "from keras.layers import Conv2D, MaxPool2D, Flatten, Dense, Dropout, Activation, BatchNormalization\n",
    "\n",
    "# Function to create and train the specified CNN model\n",
    "def create_and_train_model():\n",
    "    \n",
    "     model=Sequential()\n",
    "     model.add(Conv2D(28,(5,5),padding='same',input_shape=X_train.shape[1:]))\n",
    "     model.add(Activation('relu'))\n",
    "     model.add(BatchNormalization())\n",
    "     model.add(Conv2D(28,(5,5)))\n",
    "     model.add(Activation('relu'))\n",
    "     model.add(MaxPool2D(pool_size=(2,2)))\n",
    "     model.add(Dropout(0.25))\n",
    "     model.add(Conv2D(32,(5,5),padding='same',input_shape=X_train.shape[1:]))\n",
    "     model.add(Activation('relu'))\n",
    "     model.add(BatchNormalization())\n",
    "     model.add(Conv2D(32,(5,5)))\n",
    "     model.add(Activation('relu'))\n",
    "     model.add(MaxPool2D(pool_size=(2,2)))\n",
    "     model.add(Dropout(0.25))\n",
    "     model.add(Flatten())\n",
    "     model.add(Dense(512))\n",
    "     model.add(Activation('relu'))\n",
    "     model.add(Dropout(0.25))\n",
    "     model.add(Dense(5))\n",
    "     model.add(Activation('softmax'))\n",
    "\n",
    "\n",
    "    # Compile the model\n",
    "     model.compile(optimizer=SGD(learning_rate=0.01), \n",
    "                  loss='categorical_crossentropy', \n",
    "                  metrics=['accuracy'])\n",
    "\n",
    "#     # Reshape images to (28, 28, 1) for Conv2D layer\n",
    "#      train_images_reshaped = train_images.reshape((-1, 28, 28, 1))\n",
    "#      test_images_reshaped = test_images.reshape((-1, 28, 28, 1))\n",
    "\n",
    "    # Train the model\n",
    "     history = model.fit(X_train, y_train, \n",
    "                        epochs=10, batch_size=64, \n",
    "                        validation_split=0.2, verbose=1)\n",
    "    \n",
    "    # Evaluate the model on the test set\n",
    "     test_loss, test_accuracy = model.evaluate(X_test, y_test, verbose=2)\n",
    "\n",
    "     return test_accuracy\n",
    "\n",
    "\n",
    "num_models = 1\n",
    "test_accuracies = []\n",
    "\n",
    "for i in range(num_models):\n",
    "    acurracy = create_and_train_model()\n",
    "    test_accuracies.append(acurracy)\n",
    "    print(f'Model-{i+1} test accuracy: {acurracy:.4f}')\n",
    "\n",
    "# Compute the mean test accuracy\n",
    "mean_test_accuracy = np.mean(test_accuracies)\n",
    "print(f'Mean Test Accuracy across Models: {mean_test_accuracy}')"
   ]
  },
  {
   "cell_type": "code",
   "execution_count": null,
   "metadata": {},
   "outputs": [],
   "source": []
  }
 ],
 "metadata": {
  "kernelspec": {
   "display_name": "jupyternotebook",
   "language": "python",
   "name": "jupyternotebook"
  },
  "language_info": {
   "codemirror_mode": {
    "name": "ipython",
    "version": 3
   },
   "file_extension": ".py",
   "mimetype": "text/x-python",
   "name": "python",
   "nbconvert_exporter": "python",
   "pygments_lexer": "ipython3",
   "version": "3.8.2"
  }
 },
 "nbformat": 4,
 "nbformat_minor": 2
}
