{
 "cells": [
  {
   "cell_type": "code",
   "execution_count": 1,
   "metadata": {},
   "outputs": [],
   "source": [
    "import numpy as np\n",
    "import pandas as pd\n",
    "import matplotlib.pyplot as plt\n",
    "import os\n",
    "import glob as gb\n",
    "import cv2\n",
    "import seaborn as sns\n",
    "from sklearn.metrics import accuracy_score\n",
    "from sklearn.model_selection import train_test_split\n",
    "\n",
    "from tensorflow.keras.callbacks import EarlyStopping ,ReduceLROnPlateau \n",
    "from tensorflow.keras.models import Sequential\n",
    "from tensorflow.keras.layers import Conv2D , Dense , Dropout , Flatten , MaxPooling2D , BatchNormalization ,experimental\n",
    "from tensorflow.keras.utils import to_categorical\n",
    "from keras.applications.vgg16 import VGG16\n",
    "from keras.applications.vgg19 import VGG19\n",
    "from tensorflow import keras\n",
    "from keras.models import Model"
   ]
  },
  {
   "cell_type": "code",
   "execution_count": 2,
   "metadata": {},
   "outputs": [
    {
     "data": {
      "text/plain": [
       "'c:\\\\Users\\\\ashuo\\\\Downloads\\\\GithubProjects\\\\OpenCV-Computer-Vision\\\\LAB_10'"
      ]
     },
     "execution_count": 2,
     "metadata": {},
     "output_type": "execute_result"
    }
   ],
   "source": [
    "pwd"
   ]
  },
  {
   "cell_type": "code",
   "execution_count": 3,
   "metadata": {},
   "outputs": [],
   "source": [
    "#data path\n",
    "trainpath = 'c:\\\\Users\\\\ashuo\\\\Downloads\\\\GithubProjects\\\\OpenCV-Computer-Vision\\\\LAB_10\\\\fruitclassification\\\\train'#\n",
    "testpath = 'c:\\\\Users\\\\ashuo\\\\Downloads\\\\GithubProjects\\\\OpenCV-Computer-Vision\\\\LAB_10\\\\fruitclassification\\\\test'"
   ]
  },
  {
   "cell_type": "code",
   "execution_count": 4,
   "metadata": {},
   "outputs": [
    {
     "name": "stdout",
     "output_type": "stream",
     "text": [
      "Entering to the folder name: banana\n",
      "Number of images in the folder is 20\n",
      "Entering to the folder name: gala\n",
      "Number of images in the folder is 21\n",
      "Entering to the folder name: grannysmith\n",
      "Number of images in the folder is 20\n",
      "Entering to the folder name: lime\n",
      "Number of images in the folder is 20\n",
      "Entering to the folder name: pinklady\n",
      "Number of images in the folder is 20\n"
     ]
    }
   ],
   "source": [
    "new_size=224\n",
    "train_images=[]\n",
    "train_labels=[]\n",
    "for i in os.listdir(trainpath):#entering train folder\n",
    "  print(\"Entering to the folder name:\",i)\n",
    "  files=gb.glob(pathname=str(trainpath+'/' + i + '/*.png'))# pointing to all the .jpg extension image folder\n",
    "  print(\"Number of images in the folder is\",len(files))\n",
    "  for j in files:# reading each images\n",
    "      class_fruit={'banana':0,'gala':1,'grannysmith':2,'lime':3,'pinklady':4}\n",
    "      image_raw=cv2.imread(j)\n",
    "      image=cv2.cvtColor(image_raw,cv2.COLOR_BGR2RGB)\n",
    "      resize_image=cv2.resize(image,(new_size,new_size))\n",
    "      train_images.append(list(resize_image))\n",
    "      train_labels.append(class_fruit[i])"
   ]
  },
  {
   "cell_type": "code",
   "execution_count": 5,
   "metadata": {},
   "outputs": [
    {
     "name": "stdout",
     "output_type": "stream",
     "text": [
      "Entering to the folder name: banana\n",
      "Number of images in the folder is 10\n",
      "Entering to the folder name: gala\n",
      "Number of images in the folder is 10\n",
      "Entering to the folder name: grannysmith\n",
      "Number of images in the folder is 10\n",
      "Entering to the folder name: lime\n",
      "Number of images in the folder is 10\n",
      "Entering to the folder name: pinklady\n",
      "Number of images in the folder is 10\n"
     ]
    }
   ],
   "source": [
    "new_size=224\n",
    "test_images=[]\n",
    "test_labels=[]\n",
    "for i in os.listdir(testpath):#entering train folder\n",
    "  print(\"Entering to the folder name:\",i)\n",
    "  files=gb.glob(pathname=str(testpath+'/' + i + '/*.png'))# pointing to all the .jpg extension image folder\n",
    "  print(\"Number of images in the folder is\",len(files))\n",
    "  for j in files:# reading each images\n",
    "      class_fruit={'banana':0,'gala':1,'grannysmith':2,'lime':3,'pinklady':4}\n",
    "      image_raw=cv2.imread(j)\n",
    "      image=cv2.cvtColor(image_raw,cv2.COLOR_BGR2RGB)\n",
    "      resize_image=cv2.resize(image,(new_size,new_size))\n",
    "      test_images.append(list(resize_image))\n",
    "      test_labels.append(class_fruit[i])"
   ]
  },
  {
   "cell_type": "code",
   "execution_count": 6,
   "metadata": {},
   "outputs": [],
   "source": [
    "def list_to_array_train(train_images,train_labels):\n",
    "  return np.array(train_images),np.array(train_labels)\n",
    "\n",
    "train,train_labels=list_to_array_train(train_images,train_labels)\n",
    "\n",
    "\n",
    "def list_to_array_test(test_images,test_labels):\n",
    "  return np.array(test_images),np.array(test_labels)\n",
    "\n",
    "\n",
    "test_images,test_labels=list_to_array_test(test_images,test_labels)"
   ]
  },
  {
   "cell_type": "code",
   "execution_count": 7,
   "metadata": {},
   "outputs": [
    {
     "name": "stdout",
     "output_type": "stream",
     "text": [
      "(101, 224, 224, 3)\n",
      "********************\n",
      "(101,)\n",
      "********************\n",
      "(50, 224, 224, 3)\n",
      "(50,)\n"
     ]
    }
   ],
   "source": [
    "print(train_images.shape)\n",
    "print(\"*\"*20)\n",
    "print(train_labels.shape)\n",
    "print(\"*\"*20)\n",
    "print(test_images.shape)\n",
    "print(test_labels.shape)"
   ]
  },
  {
   "cell_type": "code",
   "execution_count": 8,
   "metadata": {},
   "outputs": [],
   "source": [
    "def keras_to_categorical(y_train,y_test):\n",
    "  return to_categorical(y_train),to_categorical(y_test)\n",
    "\n",
    "train_labels,test_labels=keras_to_categorical(test_images,test_labels)"
   ]
  },
  {
   "cell_type": "code",
   "execution_count": 9,
   "metadata": {},
   "outputs": [],
   "source": [
    "def model_vgg19():\n",
    "  VGG_model = VGG19(weights='imagenet', include_top=False, input_shape=(224,224, 3))\n",
    "  #Make loaded layers as non-trainable. This is important as we want to work with pre-trained weights\n",
    "  for layer in VGG_model.layers:\n",
    "    layer.trainable = False #True for actual transfer learning\n",
    "    \n",
    "  feature=keras.layers.GlobalAveragePooling2D()(VGG_model.output)\n",
    "  d1=Dense(units=128,kernel_initializer=\"glorot_uniform\", activation='relu')(feature)\n",
    "  d2=Dense(units=64,kernel_initializer=\"glorot_uniform\", activation='sigmoid')(d1)\n",
    "  d3=Dense(units=32,kernel_initializer=\"glorot_uniform\", activation='sigmoid')(d2)\n",
    "  d4=Dense(units=5,kernel_initializer=\"glorot_uniform\", activation='softmax')(d3)\n",
    "  output = Model(inputs =VGG_model.input, outputs =d4)\n",
    "  #output = Model(inputs =VGG_model.input, outputs =feature)\n",
    "  \n",
    "  return output\n",
    "\n",
    "model19=model_vgg19()"
   ]
  },
  {
   "cell_type": "code",
   "execution_count": 10,
   "metadata": {},
   "outputs": [],
   "source": [
    "model19.compile(optimizer='adam', loss='categorical_crossentropy', metrics=['accuracy'])"
   ]
  },
  {
   "cell_type": "code",
   "execution_count": 11,
   "metadata": {},
   "outputs": [
    {
     "ename": "ValueError",
     "evalue": "Data cardinality is ambiguous:\n  x sizes: 101\n  y sizes: 50\nMake sure all arrays contain the same number of samples.",
     "output_type": "error",
     "traceback": [
      "\u001b[1;31m---------------------------------------------------------------------------\u001b[0m",
      "\u001b[1;31mValueError\u001b[0m                                Traceback (most recent call last)",
      "Cell \u001b[1;32mIn[11], line 8\u001b[0m\n\u001b[0;32m      4\u001b[0m num_runs \u001b[38;5;241m=\u001b[39m \u001b[38;5;241m3\u001b[39m\n\u001b[0;32m      6\u001b[0m \u001b[38;5;28;01mfor\u001b[39;00m run \u001b[38;5;129;01min\u001b[39;00m \u001b[38;5;28mrange\u001b[39m(num_runs):\n\u001b[0;32m      7\u001b[0m     \u001b[38;5;66;03m# Fit the model\u001b[39;00m\n\u001b[1;32m----> 8\u001b[0m     history \u001b[38;5;241m=\u001b[39m \u001b[43mmodel19\u001b[49m\u001b[38;5;241;43m.\u001b[39;49m\u001b[43mfit\u001b[49m\u001b[43m(\u001b[49m\u001b[43mtrain_images\u001b[49m\u001b[43m,\u001b[49m\u001b[43mtrain_labels\u001b[49m\u001b[43m \u001b[49m\u001b[43m,\u001b[49m\u001b[43mvalidation_split\u001b[49m\u001b[38;5;241;43m=\u001b[39;49m\u001b[38;5;241;43m0.2\u001b[39;49m\u001b[43m,\u001b[49m\u001b[43m \u001b[49m\u001b[43mepochs\u001b[49m\u001b[38;5;241;43m=\u001b[39;49m\u001b[38;5;241;43m10\u001b[39;49m\u001b[43m,\u001b[49m\u001b[43m \u001b[49m\u001b[43mbatch_size\u001b[49m\u001b[38;5;241;43m=\u001b[39;49m\u001b[38;5;241;43m5\u001b[39;49m\u001b[43m,\u001b[49m\u001b[43m \u001b[49m\u001b[43mverbose\u001b[49m\u001b[38;5;241;43m=\u001b[39;49m\u001b[38;5;241;43m2\u001b[39;49m\u001b[43m,\u001b[49m\u001b[43m \u001b[49m\u001b[43mvalidation_data\u001b[49m\u001b[38;5;241;43m=\u001b[39;49m\u001b[43m(\u001b[49m\u001b[43mtest_images\u001b[49m\u001b[43m,\u001b[49m\u001b[43m \u001b[49m\u001b[43mtest_labels\u001b[49m\u001b[43m)\u001b[49m\u001b[43m)\u001b[49m\n\u001b[0;32m     10\u001b[0m     \u001b[38;5;66;03m# Evaluate the model on the test set\u001b[39;00m\n\u001b[0;32m     11\u001b[0m     _, accuracy \u001b[38;5;241m=\u001b[39m model19\u001b[38;5;241m.\u001b[39mevaluate(test_images, test_labels, verbose\u001b[38;5;241m=\u001b[39m\u001b[38;5;241m2\u001b[39m)\n",
      "File \u001b[1;32mc:\\users\\ashuo\\jupyternotebook\\lib\\site-packages\\keras\\src\\utils\\traceback_utils.py:70\u001b[0m, in \u001b[0;36mfilter_traceback.<locals>.error_handler\u001b[1;34m(*args, **kwargs)\u001b[0m\n\u001b[0;32m     67\u001b[0m     filtered_tb \u001b[38;5;241m=\u001b[39m _process_traceback_frames(e\u001b[38;5;241m.\u001b[39m__traceback__)\n\u001b[0;32m     68\u001b[0m     \u001b[38;5;66;03m# To get the full stack trace, call:\u001b[39;00m\n\u001b[0;32m     69\u001b[0m     \u001b[38;5;66;03m# `tf.debugging.disable_traceback_filtering()`\u001b[39;00m\n\u001b[1;32m---> 70\u001b[0m     \u001b[38;5;28;01mraise\u001b[39;00m e\u001b[38;5;241m.\u001b[39mwith_traceback(filtered_tb) \u001b[38;5;28;01mfrom\u001b[39;00m \u001b[38;5;28;01mNone\u001b[39;00m\n\u001b[0;32m     71\u001b[0m \u001b[38;5;28;01mfinally\u001b[39;00m:\n\u001b[0;32m     72\u001b[0m     \u001b[38;5;28;01mdel\u001b[39;00m filtered_tb\n",
      "File \u001b[1;32mc:\\users\\ashuo\\jupyternotebook\\lib\\site-packages\\keras\\src\\engine\\data_adapter.py:1950\u001b[0m, in \u001b[0;36m_check_data_cardinality\u001b[1;34m(data)\u001b[0m\n\u001b[0;32m   1943\u001b[0m     msg \u001b[38;5;241m+\u001b[39m\u001b[38;5;241m=\u001b[39m \u001b[38;5;124m\"\u001b[39m\u001b[38;5;124m  \u001b[39m\u001b[38;5;132;01m{}\u001b[39;00m\u001b[38;5;124m sizes: \u001b[39m\u001b[38;5;132;01m{}\u001b[39;00m\u001b[38;5;130;01m\\n\u001b[39;00m\u001b[38;5;124m\"\u001b[39m\u001b[38;5;241m.\u001b[39mformat(\n\u001b[0;32m   1944\u001b[0m         label,\n\u001b[0;32m   1945\u001b[0m         \u001b[38;5;124m\"\u001b[39m\u001b[38;5;124m, \u001b[39m\u001b[38;5;124m\"\u001b[39m\u001b[38;5;241m.\u001b[39mjoin(\n\u001b[0;32m   1946\u001b[0m             \u001b[38;5;28mstr\u001b[39m(i\u001b[38;5;241m.\u001b[39mshape[\u001b[38;5;241m0\u001b[39m]) \u001b[38;5;28;01mfor\u001b[39;00m i \u001b[38;5;129;01min\u001b[39;00m tf\u001b[38;5;241m.\u001b[39mnest\u001b[38;5;241m.\u001b[39mflatten(single_data)\n\u001b[0;32m   1947\u001b[0m         ),\n\u001b[0;32m   1948\u001b[0m     )\n\u001b[0;32m   1949\u001b[0m msg \u001b[38;5;241m+\u001b[39m\u001b[38;5;241m=\u001b[39m \u001b[38;5;124m\"\u001b[39m\u001b[38;5;124mMake sure all arrays contain the same number of samples.\u001b[39m\u001b[38;5;124m\"\u001b[39m\n\u001b[1;32m-> 1950\u001b[0m \u001b[38;5;28;01mraise\u001b[39;00m \u001b[38;5;167;01mValueError\u001b[39;00m(msg)\n",
      "\u001b[1;31mValueError\u001b[0m: Data cardinality is ambiguous:\n  x sizes: 101\n  y sizes: 50\nMake sure all arrays contain the same number of samples."
     ]
    }
   ],
   "source": [
    "accuracies = []\n",
    "\n",
    "# Define the number of runs\n",
    "num_runs = 3\n",
    "\n",
    "for run in range(num_runs):\n",
    "    # Fit the model\n",
    "    history = model19.fit(train_images,train_labels ,validation_split=0.2, epochs=10, batch_size=5, verbose=2, validation_data=(test_images, test_labels))\n",
    "    \n",
    "    # Evaluate the model on the test set\n",
    "    _, accuracy = model19.evaluate(test_images, test_labels, verbose=2)\n",
    "    \n",
    "    # Append the accuracy to the list\n",
    "    accuracies.append(accuracy)\n",
    "    \n",
    "    # Print the accuracy for each run\n",
    "    print(f\"Accuracy for run {run + 1}: {accuracy}\")\n",
    "\n",
    "# Calculate the mean accuracy\n",
    "mean_accuracy = np.mean(accuracies)\n",
    "\n",
    "# Print the mean accuracy\n",
    "print(f\"Mean accuracy across {num_runs} runs: {mean_accuracy}\")"
   ]
  }
 ],
 "metadata": {
  "kernelspec": {
   "display_name": "jupyternotebook",
   "language": "python",
   "name": "jupyternotebook"
  },
  "language_info": {
   "codemirror_mode": {
    "name": "ipython",
    "version": 3
   },
   "file_extension": ".py",
   "mimetype": "text/x-python",
   "name": "python",
   "nbconvert_exporter": "python",
   "pygments_lexer": "ipython3",
   "version": "3.8.2"
  }
 },
 "nbformat": 4,
 "nbformat_minor": 2
}
