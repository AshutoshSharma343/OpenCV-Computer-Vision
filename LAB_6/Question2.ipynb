{
 "cells": [
  {
   "cell_type": "code",
   "execution_count": 1,
   "metadata": {},
   "outputs": [],
   "source": [
    "import numpy as np\n",
    "import pandas as pd\n",
    "import matplotlib.pyplot as plt\n",
    "import os\n",
    "import glob as gb\n",
    "import cv2\n",
    "import seaborn as sns\n",
    "from sklearn.metrics import accuracy_score\n",
    "from sklearn.model_selection import train_test_split\n",
    "\n",
    "from tensorflow.keras.callbacks import EarlyStopping ,ReduceLROnPlateau \n",
    "from tensorflow.keras.models import Sequential\n",
    "from tensorflow.keras.layers import Conv2D , Dense , Dropout , Flatten , MaxPooling2D , BatchNormalization ,experimental\n",
    "from tensorflow.keras.utils import to_categorical\n",
    "from keras.applications.vgg16 import VGG16\n",
    "from keras.applications.vgg19 import VGG19\n",
    "from tensorflow import keras\n",
    "from keras.models import Model"
   ]
  },
  {
   "cell_type": "code",
   "execution_count": 2,
   "metadata": {},
   "outputs": [
    {
     "data": {
      "text/plain": [
       "'c:\\\\Users\\\\ashuo\\\\Downloads\\\\GithubProjects\\\\OpenCV-Computer-Vision\\\\LAB_6'"
      ]
     },
     "execution_count": 2,
     "metadata": {},
     "output_type": "execute_result"
    }
   ],
   "source": [
    "pwd"
   ]
  },
  {
   "cell_type": "code",
   "execution_count": 3,
   "metadata": {},
   "outputs": [],
   "source": [
    "#data path\n",
    "trainpath = 'c:\\\\Users\\\\ashuo\\\\Downloads\\\\GithubProjects\\\\OpenCV-Computer-Vision\\\\LAB_6\\\\Orange_Dataset\\\\train'#\n",
    "testpath = 'c:\\\\Users\\\\ashuo\\\\Downloads\\\\GithubProjects\\\\OpenCV-Computer-Vision\\\\LAB_6\\\\Orange_Dataset\\\\test'"
   ]
  },
  {
   "cell_type": "code",
   "execution_count": 6,
   "metadata": {},
   "outputs": [
    {
     "name": "stdout",
     "output_type": "stream",
     "text": [
      "Entering to the folder name: Anthracnose\n",
      "Number of images in the folder is 30\n",
      "Entering to the folder name: BlackSpot\n",
      "Number of images in the folder is 30\n",
      "Entering to the folder name: Healthy\n",
      "Number of images in the folder is 30\n"
     ]
    }
   ],
   "source": [
    "new_size=224\n",
    "train_images=[]\n",
    "train_labels=[]\n",
    "for i in os.listdir(trainpath):#entering train folder\n",
    "  print(\"Entering to the folder name:\",i)\n",
    "  files=gb.glob(pathname=str(trainpath+'/' + i + '/*.jpg'))# pointing to all the .jpg extension image folder\n",
    "  print(\"Number of images in the folder is\",len(files))\n",
    "  for j in files:# reading each images\n",
    "      class_cancer={'Anthracnose':0,'BlackSpot':1,'Healthy':2}\n",
    "      image_raw=cv2.imread(j)\n",
    "      image=cv2.cvtColor(image_raw,cv2.COLOR_BGR2RGB)\n",
    "      resize_image=cv2.resize(image,(new_size,new_size))\n",
    "      train_images.append(list(resize_image))\n",
    "      train_labels.append(class_cancer[i])"
   ]
  },
  {
   "cell_type": "code",
   "execution_count": 7,
   "metadata": {},
   "outputs": [
    {
     "name": "stdout",
     "output_type": "stream",
     "text": [
      "Entering to the folder name: Anthracnose\n",
      "Number of images in the folder is 24\n",
      "Entering to the folder name: BlackSpot\n",
      "Number of images in the folder is 25\n",
      "Entering to the folder name: Healthy\n",
      "Number of images in the folder is 25\n"
     ]
    }
   ],
   "source": [
    "new_size=224\n",
    "test_images=[]\n",
    "test_labels=[]\n",
    "for i in os.listdir(testpath):# entering to the test folder\n",
    "  print(\"Entering to the folder name:\",i)\n",
    "  files=gb.glob(pathname=str(testpath +'/' + i + '/*.jpg'))# pointing to all the .jpg extension image folder\n",
    "  print(\"Number of images in the folder is\",len(files))\n",
    "  for j in files:\n",
    "      class_cancer={'Anthracnose':0,'BlackSpot':1,'Healthy':2}\n",
    "      image_raw=cv2.imread(j)\n",
    "      image=cv2.cvtColor(image_raw,cv2.COLOR_BGR2RGB)\n",
    "      resize_image=cv2.resize(image,(new_size,new_size))\n",
    "      test_images.append(list(resize_image))\n",
    "      test_labels.append(class_cancer[i])"
   ]
  },
  {
   "cell_type": "code",
   "execution_count": 8,
   "metadata": {},
   "outputs": [],
   "source": [
    "def list_to_array_train(train_images,train_labels):\n",
    "  return np.array(train_images),np.array(train_labels)\n",
    "\n",
    "X_train,y_train=list_to_array_train(train_images,train_labels)\n",
    "\n",
    "\n",
    "def list_to_array_test(test_images,test_labels):\n",
    "  return np.array(test_images),np.array(test_labels)\n",
    "\n",
    "\n",
    "X_test,y_test=list_to_array_test(test_images,test_labels)"
   ]
  },
  {
   "cell_type": "code",
   "execution_count": 9,
   "metadata": {},
   "outputs": [
    {
     "name": "stdout",
     "output_type": "stream",
     "text": [
      "(90, 224, 224, 3)\n",
      "********************\n",
      "(90,)\n",
      "********************\n",
      "(74, 224, 224, 3)\n",
      "(74,)\n"
     ]
    }
   ],
   "source": [
    "print(X_train.shape)\n",
    "print(\"*\"*20)\n",
    "print(y_train.shape)\n",
    "print(\"*\"*20)\n",
    "print(X_test.shape)\n",
    "print(y_test.shape)"
   ]
  },
  {
   "cell_type": "code",
   "execution_count": 10,
   "metadata": {},
   "outputs": [],
   "source": [
    "def keras_to_categorical(y_train,y_test):\n",
    "  return to_categorical(y_train),to_categorical(y_test)\n",
    "\n",
    "y_train,y_test=keras_to_categorical(y_train,y_test)"
   ]
  },
  {
   "cell_type": "code",
   "execution_count": 11,
   "metadata": {},
   "outputs": [],
   "source": [
    "def model_vgg16():\n",
    "  VGG_model = VGG16(weights='imagenet', include_top=False, input_shape=(224,224, 3))\n",
    "  #Make loaded layers as non-trainable. This is important as we want to work with pre-trained weights\n",
    "  for layer in VGG_model.layers:\n",
    "    layer.trainable = False #True for actual transfer learning\n",
    "  feature=keras.layers.GlobalAveragePooling2D()(VGG_model.output)\n",
    "  d1=Dense(units=64,kernel_initializer=\"glorot_uniform\", activation='relu')(feature)\n",
    "  d2=Dense(units=32,kernel_initializer=\"glorot_uniform\", activation='sigmoid')(d1)\n",
    "  d3=Dense(units=3,kernel_initializer=\"glorot_uniform\", activation='softmax')(d2)\n",
    "  output = Model(inputs =VGG_model.input, outputs =d3)\n",
    "  \n",
    "  return output\n",
    "\n",
    "model16=model_vgg16()"
   ]
  },
  {
   "cell_type": "code",
   "execution_count": 12,
   "metadata": {},
   "outputs": [],
   "source": [
    "model16.compile(optimizer='Adam', loss='mse', metrics='accuracy')"
   ]
  },
  {
   "cell_type": "code",
   "execution_count": 13,
   "metadata": {},
   "outputs": [
    {
     "name": "stdout",
     "output_type": "stream",
     "text": [
      "Epoch 1/5\n",
      "18/18 [==============================] - 15s 756ms/step - loss: 0.1642 - accuracy: 0.7222 - val_loss: 0.0782 - val_accuracy: 1.0000\n",
      "Epoch 2/5\n",
      "18/18 [==============================] - 12s 700ms/step - loss: 0.0401 - accuracy: 1.0000 - val_loss: 0.0320 - val_accuracy: 1.0000\n",
      "Epoch 3/5\n",
      "18/18 [==============================] - 12s 704ms/step - loss: 0.0150 - accuracy: 1.0000 - val_loss: 0.0153 - val_accuracy: 1.0000\n",
      "Epoch 4/5\n",
      "18/18 [==============================] - 12s 704ms/step - loss: 0.0094 - accuracy: 1.0000 - val_loss: 0.0112 - val_accuracy: 1.0000\n",
      "Epoch 5/5\n",
      "18/18 [==============================] - 12s 706ms/step - loss: 0.0070 - accuracy: 1.0000 - val_loss: 0.0095 - val_accuracy: 1.0000\n"
     ]
    }
   ],
   "source": [
    "accuracies = []\n",
    "\n",
    "# Define the number of runs\n",
    "num_runs = 3\n",
    "\n",
    "for run in range(num_runs):\n",
    "    # Fit the model\n",
    "    history = model16.fit(X_train, y_train, validation_split=0.2, epochs=10, batch_size=5, verbose=1, validation_data=(X_test, y_test))\n",
    "    \n",
    "    # Evaluate the model on the test set\n",
    "    _, accuracy = model16.evaluate(X_test, y_test, verbose=0)\n",
    "    \n",
    "    # Append the accuracy to the list\n",
    "    accuracies.append(accuracy)\n",
    "    \n",
    "    # Print the accuracy for each run\n",
    "    print(f\"Accuracy for run {run + 1}: {accuracy}\")\n",
    "\n",
    "# Calculate the mean accuracy\n",
    "mean_accuracy = np.mean(accuracies)\n",
    "\n",
    "# Print the mean accuracy\n",
    "print(f\"Mean accuracy across {num_runs} runs: {mean_accuracy}\")"
   ]
  },
  {
   "cell_type": "code",
   "execution_count": 1,
   "metadata": {},
   "outputs": [
    {
     "ename": "NameError",
     "evalue": "name 'history' is not defined",
     "output_type": "error",
     "traceback": [
      "\u001b[1;31m---------------------------------------------------------------------------\u001b[0m",
      "\u001b[1;31mNameError\u001b[0m                                 Traceback (most recent call last)",
      "Cell \u001b[1;32mIn[1], line 1\u001b[0m\n\u001b[1;32m----> 1\u001b[0m \u001b[38;5;28mprint\u001b[39m(\u001b[43mhistory\u001b[49m\u001b[38;5;241m.\u001b[39maccuracy)\n",
      "\u001b[1;31mNameError\u001b[0m: name 'history' is not defined"
     ]
    }
   ],
   "source": []
  },
  {
   "cell_type": "markdown",
   "metadata": {},
   "source": [
    "# Feature Extraction"
   ]
  },
  {
   "cell_type": "code",
   "execution_count": 14,
   "metadata": {},
   "outputs": [],
   "source": [
    "def model_vgg16():\n",
    "  VGG_model = VGG16(weights='imagenet', include_top=False, input_shape=(224,224, 3))\n",
    "  #Make loaded layers as non-trainable. This is important as we want to work with pre-trained weights\n",
    "  for layer in VGG_model.layers:\n",
    "    layer.trainable = False #True for actual transfer learning\n",
    "  feature=keras.layers.GlobalAveragePooling2D()(VGG_model.output)\n",
    "  \n",
    "  output = Model(inputs =VGG_model.input, outputs =feature)\n",
    "  \n",
    "  return output\n",
    "\n",
    "model_FE_16=model_vgg16()"
   ]
  },
  {
   "cell_type": "code",
   "execution_count": 15,
   "metadata": {},
   "outputs": [
    {
     "name": "stdout",
     "output_type": "stream",
     "text": [
      "3/3 [==============================] - 7s 2s/step\n",
      "3/3 [==============================] - 5s 1s/step\n"
     ]
    }
   ],
   "source": [
    "model_FE_16.compile(optimizer='Adam', loss='mse', metrics='accuracy')\n",
    "train_feature_16=model_FE_16.predict(X_train)\n",
    "test_feature_16=model_FE_16.predict(X_test)"
   ]
  },
  {
   "cell_type": "code",
   "execution_count": 17,
   "metadata": {},
   "outputs": [
    {
     "name": "stdout",
     "output_type": "stream",
     "text": [
      "Train Accuracy Score 1.0\n",
      "Test Accuracy Score 1.0\n"
     ]
    }
   ],
   "source": [
    "from sklearn.ensemble import RandomForestClassifier\n",
    "rf=RandomForestClassifier()\n",
    "rf=rf.fit(train_feature_16,y_train)\n",
    "train_pred=rf.predict(train_feature_16)\n",
    "test_pred=rf.predict(test_feature_16)\n",
    "print(\"Train Accuracy Score\",accuracy_score(train_pred,y_train))\n",
    "print(\"Test Accuracy Score\",accuracy_score(test_pred,y_test))"
   ]
  },
  {
   "cell_type": "code",
   "execution_count": 18,
   "metadata": {},
   "outputs": [],
   "source": [
    "def model_vgg19():\n",
    "  VGG_model = VGG19(weights='imagenet', include_top=False, input_shape=(224,224, 3))\n",
    "  #Make loaded layers as non-trainable. This is important as we want to work with pre-trained weights\n",
    "  for layer in VGG_model.layers:\n",
    "    layer.trainable = False #True for actual transfer learning\n",
    "  feature=keras.layers.GlobalAveragePooling2D()(VGG_model.output)\n",
    "  ##d1=Dense(units=256,kernel_initializer=\"glorot_uniform\", W_regularizer=l2(0.001), activation='relu')(feature)\n",
    "  ##d2=Dense(units=2,kernel_initializer=\"glorot_uniform\", W_regularizer=l2(0.001), activation='softmax')(d1)\n",
    "  #output = Model(inputs =VGG_model.input, outputs =d2)\n",
    "  output = Model(inputs =VGG_model.input, outputs =feature)\n",
    "  \n",
    "  return output\n",
    "\n",
    "model_FE_19=model_vgg19()"
   ]
  },
  {
   "cell_type": "code",
   "execution_count": 19,
   "metadata": {},
   "outputs": [
    {
     "name": "stdout",
     "output_type": "stream",
     "text": [
      "3/3 [==============================] - 9s 3s/step\n",
      "3/3 [==============================] - 7s 2s/step\n"
     ]
    }
   ],
   "source": [
    "model_FE_19.compile(optimizer='Adam', loss='mse', metrics='accuracy')\n",
    "train_feature_19=model_FE_19.predict(X_train)\n",
    "test_feature_19=model_FE_19.predict(X_test)"
   ]
  },
  {
   "cell_type": "code",
   "execution_count": 20,
   "metadata": {},
   "outputs": [],
   "source": [
    "final_train=np.hstack((train_feature_16,train_feature_19))\n",
    "final_test=np.hstack((test_feature_16,test_feature_19))"
   ]
  },
  {
   "cell_type": "code",
   "execution_count": 21,
   "metadata": {},
   "outputs": [
    {
     "name": "stdout",
     "output_type": "stream",
     "text": [
      "Train Accuracy Score 1.0\n",
      "Test Accuracy Score 1.0\n"
     ]
    }
   ],
   "source": [
    "from sklearn.ensemble import RandomForestClassifier\n",
    "rf=RandomForestClassifier()\n",
    "rf=rf.fit(final_train,y_train)\n",
    "train_pred=rf.predict(final_train)\n",
    "test_pred=rf.predict(final_test)\n",
    "print(\"Train Accuracy Score\",accuracy_score(train_pred,y_train))\n",
    "print(\"Test Accuracy Score\",accuracy_score(test_pred,y_test))"
   ]
  }
 ],
 "metadata": {
  "kernelspec": {
   "display_name": "jupyternotebook",
   "language": "python",
   "name": "jupyternotebook"
  },
  "language_info": {
   "codemirror_mode": {
    "name": "ipython",
    "version": 3
   },
   "file_extension": ".py",
   "mimetype": "text/x-python",
   "name": "python",
   "nbconvert_exporter": "python",
   "pygments_lexer": "ipython3",
   "version": "3.8.2"
  }
 },
 "nbformat": 4,
 "nbformat_minor": 2
}
