{
 "cells": [
  {
   "cell_type": "code",
   "execution_count": 1,
   "metadata": {},
   "outputs": [],
   "source": [
    "# Two Class Classification of Skin_Cancer Dataset\n",
    "# a. Use  a  pretrained  VGG-16  model  on  Imagenet  dataset  by  removing  the  top  fully connected layers and adding three dense layers having 64, 32 and 2 neurons with relu, sigmoid and softmax activation functions respectively for classifying the two class Skin_Cancer RGB dataset given in Teams."
   ]
  },
  {
   "cell_type": "code",
   "execution_count": 2,
   "metadata": {},
   "outputs": [],
   "source": [
    "import numpy as np\n",
    "import pandas as pd\n",
    "import matplotlib.pyplot as plt\n",
    "import os\n",
    "import glob as gb\n",
    "import cv2\n",
    "import seaborn as sns\n",
    "from sklearn.metrics import accuracy_score\n",
    "from sklearn.model_selection import train_test_split\n",
    "\n",
    "from tensorflow.keras.callbacks import EarlyStopping ,ReduceLROnPlateau \n",
    "from tensorflow.keras.models import Sequential\n",
    "from tensorflow.keras.layers import Conv2D , Dense , Dropout , Flatten , MaxPooling2D , BatchNormalization ,experimental\n",
    "from tensorflow.keras.utils import to_categorical\n",
    "from keras.applications.vgg16 import VGG16\n",
    "from keras.applications.vgg19 import VGG19\n",
    "from tensorflow import keras\n",
    "from keras.models import Model"
   ]
  },
  {
   "cell_type": "code",
   "execution_count": 3,
   "metadata": {},
   "outputs": [
    {
     "data": {
      "text/plain": [
       "'c:\\\\Users\\\\ashuo\\\\Downloads\\\\GithubProjects\\\\OpenCV-Computer-Vision\\\\LAB_6'"
      ]
     },
     "execution_count": 3,
     "metadata": {},
     "output_type": "execute_result"
    }
   ],
   "source": [
    "pwd"
   ]
  },
  {
   "cell_type": "code",
   "execution_count": 4,
   "metadata": {},
   "outputs": [],
   "source": [
    "#data path\n",
    "trainpath = 'c:\\\\Users\\\\ashuo\\\\Downloads\\\\GithubProjects\\\\OpenCV-Computer-Vision\\\\LAB_6\\\\Skin_Cancer\\\\Train'#\n",
    "testpath = 'c:\\\\Users\\\\ashuo\\\\Downloads\\\\GithubProjects\\\\OpenCV-Computer-Vision\\\\LAB_6\\\\Skin_Cancer\\\\Test'"
   ]
  },
  {
   "cell_type": "code",
   "execution_count": 5,
   "metadata": {},
   "outputs": [
    {
     "name": "stdout",
     "output_type": "stream",
     "text": [
      "Entering to the folder name: benign\n",
      "Number of images in the folder is 25\n",
      "Entering to the folder name: malignant\n",
      "Number of images in the folder is 25\n"
     ]
    }
   ],
   "source": [
    "new_size=224\n",
    "train_images=[]\n",
    "train_labels=[]\n",
    "for i in os.listdir(trainpath):#entering train folder\n",
    "  print(\"Entering to the folder name:\",i)\n",
    "  files=gb.glob(pathname=str(trainpath+'/' + i + '/*.jpg'))# pointing to all the .jpg extension image folder\n",
    "  print(\"Number of images in the folder is\",len(files))\n",
    "  for j in files:# reading each images\n",
    "      class_cancer={'benign':0,'malignant':1}\n",
    "      image_raw=cv2.imread(j)\n",
    "      image=cv2.cvtColor(image_raw,cv2.COLOR_BGR2RGB)\n",
    "      resize_image=cv2.resize(image,(new_size,new_size))\n",
    "      train_images.append(list(resize_image))\n",
    "      train_labels.append(class_cancer[i])"
   ]
  },
  {
   "cell_type": "code",
   "execution_count": 6,
   "metadata": {},
   "outputs": [
    {
     "name": "stdout",
     "output_type": "stream",
     "text": [
      "Entering to the folder name: benign\n",
      "Number of images in the folder is 25\n",
      "Entering to the folder name: malignant\n",
      "Number of images in the folder is 25\n"
     ]
    }
   ],
   "source": [
    "new_size=224\n",
    "test_images=[]\n",
    "test_labels=[]\n",
    "for i in os.listdir(testpath):# entering to the test folder\n",
    "  print(\"Entering to the folder name:\",i)\n",
    "  files=gb.glob(pathname=str(testpath +'/' + i + '/*.jpg'))# pointing to all the .jpg extension image folder\n",
    "  print(\"Number of images in the folder is\",len(files))\n",
    "  for j in files:\n",
    "      class_cancer={'benign':0,'malignant':1}\n",
    "      image_raw=cv2.imread(j)\n",
    "      image=cv2.cvtColor(image_raw,cv2.COLOR_BGR2RGB)\n",
    "      resize_image=cv2.resize(image,(new_size,new_size))\n",
    "      test_images.append(list(resize_image))\n",
    "      test_labels.append(class_cancer[i])"
   ]
  },
  {
   "cell_type": "code",
   "execution_count": 7,
   "metadata": {},
   "outputs": [],
   "source": [
    "def list_to_array_train(train_images,train_labels):\n",
    "  return np.array(train_images),np.array(train_labels)\n",
    "\n",
    "X_train,y_train=list_to_array_train(train_images,train_labels)\n",
    "\n",
    "\n",
    "def list_to_array_test(test_images,test_labels):\n",
    "  return np.array(test_images),np.array(test_labels)\n",
    "\n",
    "\n",
    "X_test,y_test=list_to_array_test(test_images,test_labels)"
   ]
  },
  {
   "cell_type": "code",
   "execution_count": 8,
   "metadata": {},
   "outputs": [
    {
     "name": "stdout",
     "output_type": "stream",
     "text": [
      "(50, 224, 224, 3)\n",
      "********************\n",
      "(50,)\n",
      "********************\n",
      "(50, 224, 224, 3)\n",
      "(50,)\n"
     ]
    }
   ],
   "source": [
    "print(X_train.shape)\n",
    "print(\"*\"*20)\n",
    "print(y_train.shape)\n",
    "print(\"*\"*20)\n",
    "print(X_test.shape)\n",
    "print(y_test.shape)"
   ]
  },
  {
   "cell_type": "code",
   "execution_count": 9,
   "metadata": {},
   "outputs": [],
   "source": [
    "def keras_to_categorical(y_train,y_test):\n",
    "  return to_categorical(y_train),to_categorical(y_test)\n",
    "\n",
    "y_train,y_test=keras_to_categorical(y_train,y_test)"
   ]
  },
  {
   "cell_type": "code",
   "execution_count": 10,
   "metadata": {},
   "outputs": [],
   "source": [
    "def model_vgg16():\n",
    "  VGG_model = VGG16(weights='imagenet', include_top=False, input_shape=(224,224, 3))\n",
    "  #Make loaded layers as non-trainable. This is important as we want to work with pre-trained weights\n",
    "  for layer in VGG_model.layers:\n",
    "    layer.trainable = False #True for actual transfer learning\n",
    "  feature=keras.layers.GlobalAveragePooling2D()(VGG_model.output)\n",
    "  d1=Dense(units=64,kernel_initializer=\"glorot_uniform\", activation='relu')(feature)\n",
    "  d2=Dense(units=32,kernel_initializer=\"glorot_uniform\", activation='sigmoid')(d1)\n",
    "  d3=Dense(units=2,kernel_initializer=\"glorot_uniform\", activation='softmax')(d2)\n",
    "  output = Model(inputs =VGG_model.input, outputs =d3)\n",
    "  \n",
    "  return output\n",
    "\n",
    "model16=model_vgg16()"
   ]
  },
  {
   "cell_type": "code",
   "execution_count": 11,
   "metadata": {},
   "outputs": [],
   "source": [
    "model16.compile(optimizer='Adam', loss='mse', metrics='accuracy')"
   ]
  },
  {
   "cell_type": "code",
   "execution_count": 12,
   "metadata": {},
   "outputs": [
    {
     "name": "stdout",
     "output_type": "stream",
     "text": [
      "Epoch 1/5\n"
     ]
    },
    {
     "name": "stdout",
     "output_type": "stream",
     "text": [
      "10/10 [==============================] - 10s 974ms/step - loss: 0.2159 - accuracy: 0.6600 - val_loss: 0.1973 - val_accuracy: 0.7200\n",
      "Epoch 2/5\n",
      "10/10 [==============================] - 26s 3s/step - loss: 0.1352 - accuracy: 0.8400 - val_loss: 0.1729 - val_accuracy: 0.7200\n",
      "Epoch 3/5\n",
      "10/10 [==============================] - 26s 3s/step - loss: 0.1051 - accuracy: 0.9000 - val_loss: 0.1555 - val_accuracy: 0.7400\n",
      "Epoch 4/5\n",
      "10/10 [==============================] - 27s 3s/step - loss: 0.0772 - accuracy: 0.9200 - val_loss: 0.1663 - val_accuracy: 0.8000\n",
      "Epoch 5/5\n",
      "10/10 [==============================] - 9s 943ms/step - loss: 0.0581 - accuracy: 0.9600 - val_loss: 0.1431 - val_accuracy: 0.8200\n"
     ]
    }
   ],
   "source": [
    "history = model16.fit(X_train, y_train, validation_split=0.2,epochs= 5, batch_size= 5, verbose=1,validation_data=(X_test,y_test))"
   ]
  },
  {
   "cell_type": "markdown",
   "metadata": {},
   "source": [
    "# Feature Extraction"
   ]
  },
  {
   "cell_type": "code",
   "execution_count": 13,
   "metadata": {},
   "outputs": [],
   "source": [
    "def model_vgg16():\n",
    "  VGG_model = VGG16(weights='imagenet', include_top=False, input_shape=(224,224, 3))\n",
    "  #Make loaded layers as non-trainable. This is important as we want to work with pre-trained weights\n",
    "  for layer in VGG_model.layers:\n",
    "    layer.trainable = False #True for actual transfer learning\n",
    "  feature=keras.layers.GlobalAveragePooling2D()(VGG_model.output)\n",
    "  \n",
    "  output = Model(inputs =VGG_model.input, outputs =feature)\n",
    "  \n",
    "  return output\n",
    "\n",
    "model_FE_16=model_vgg16()\n",
    "\n",
    "# This code essentially creates a modified VGG16 model where the fully connected layers are removed, and the output of the last convolutional layer is followed by a global average pooling layer. This modified model is then compiled and used to extract features from the training and testing datasets (X_train and X_test, respectively). These features can then be used as inputs to other machine learning models or for further analysis."
   ]
  },
  {
   "cell_type": "code",
   "execution_count": 14,
   "metadata": {},
   "outputs": [
    {
     "name": "stdout",
     "output_type": "stream",
     "text": [
      "2/2 [==============================] - 4s 1s/step\n",
      "2/2 [==============================] - 4s 1s/step\n"
     ]
    }
   ],
   "source": [
    "model_FE_16.compile(optimizer='Adam', loss='mse', metrics='accuracy')\n",
    "train_feature_16=model_FE_16.predict(X_train)\n",
    "test_feature_16=model_FE_16.predict(X_test)"
   ]
  },
  {
   "cell_type": "code",
   "execution_count": 15,
   "metadata": {},
   "outputs": [
    {
     "name": "stdout",
     "output_type": "stream",
     "text": [
      "Train Accuracy Score 1.0\n",
      "Test Accuracy Score 0.84\n"
     ]
    }
   ],
   "source": [
    "from sklearn.ensemble import RandomForestClassifier\n",
    "rf=RandomForestClassifier()\n",
    "rf=rf.fit(train_feature_16,y_train)\n",
    "train_pred=rf.predict(train_feature_16)\n",
    "test_pred=rf.predict(test_feature_16)\n",
    "print(\"Train Accuracy Score\",accuracy_score(train_pred,y_train))\n",
    "print(\"Test Accuracy Score\",accuracy_score(test_pred,y_test))"
   ]
  },
  {
   "cell_type": "code",
   "execution_count": 16,
   "metadata": {},
   "outputs": [],
   "source": [
    "def model_vgg19():\n",
    "  VGG_model = VGG19(weights='imagenet', include_top=False, input_shape=(224,224, 3))\n",
    "  #Make loaded layers as non-trainable. This is important as we want to work with pre-trained weights\n",
    "  for layer in VGG_model.layers:\n",
    "    layer.trainable = False #True for actual transfer learning\n",
    "  feature=keras.layers.GlobalAveragePooling2D()(VGG_model.output)\n",
    "  ##d1=Dense(units=256,kernel_initializer=\"glorot_uniform\", W_regularizer=l2(0.001), activation='relu')(feature)\n",
    "  ##d2=Dense(units=2,kernel_initializer=\"glorot_uniform\", W_regularizer=l2(0.001), activation='softmax')(d1)\n",
    "  #output = Model(inputs =VGG_model.input, outputs =d2)\n",
    "  output = Model(inputs =VGG_model.input, outputs =feature)\n",
    "  \n",
    "  return output\n",
    "\n",
    "model_FE_19=model_vgg19()"
   ]
  },
  {
   "cell_type": "code",
   "execution_count": 17,
   "metadata": {},
   "outputs": [
    {
     "name": "stdout",
     "output_type": "stream",
     "text": [
      "2/2 [==============================] - 5s 2s/step\n",
      "2/2 [==============================] - 4s 2s/step\n"
     ]
    }
   ],
   "source": [
    "model_FE_19.compile(optimizer='Adam', loss='mse', metrics='accuracy')\n",
    "train_feature_19=model_FE_19.predict(X_train)\n",
    "test_feature_19=model_FE_19.predict(X_test)"
   ]
  },
  {
   "cell_type": "markdown",
   "metadata": {},
   "source": [
    "# Fusion of Features"
   ]
  },
  {
   "cell_type": "code",
   "execution_count": 18,
   "metadata": {},
   "outputs": [],
   "source": [
    "final_train=np.hstack((train_feature_16,train_feature_19))\n",
    "final_test=np.hstack((test_feature_16,test_feature_19))"
   ]
  },
  {
   "cell_type": "code",
   "execution_count": 19,
   "metadata": {},
   "outputs": [
    {
     "name": "stdout",
     "output_type": "stream",
     "text": [
      "Train Accuracy Score 1.0\n",
      "Test Accuracy Score 0.82\n"
     ]
    }
   ],
   "source": [
    "from sklearn.ensemble import RandomForestClassifier\n",
    "rf=RandomForestClassifier()\n",
    "rf=rf.fit(final_train,y_train)\n",
    "train_pred=rf.predict(final_train)\n",
    "test_pred=rf.predict(final_test)\n",
    "print(\"Train Accuracy Score\",accuracy_score(train_pred,y_train))\n",
    "print(\"Test Accuracy Score\",accuracy_score(test_pred,y_test))"
   ]
  },
  {
   "cell_type": "code",
   "execution_count": 22,
   "metadata": {},
   "outputs": [
    {
     "name": "stdout",
     "output_type": "stream",
     "text": [
      "Train Accuracy Score 1.0\n",
      "Test Accuracy Score 0.8\n",
      "Train Accuracy Score 1.0\n",
      "Test Accuracy Score 0.8\n",
      "Train Accuracy Score 1.0\n",
      "Test Accuracy Score 0.82\n",
      "Train Accuracy Score 1.0\n",
      "Test Accuracy Score 0.78\n",
      "Train Accuracy Score 1.0\n",
      "Test Accuracy Score 0.82\n",
      "Train Accuracy Score 1.0\n",
      "Test Accuracy Score 0.804\n"
     ]
    }
   ],
   "source": [
    "x = 5\n",
    "\n",
    "\n",
    "train_accuracies = []\n",
    "test_accuracies = []\n",
    "\n",
    "for _ in range(5):\n",
    "     rf=RandomForestClassifier(n_estimators=100)\n",
    "     rf=rf.fit(final_train,y_train)\n",
    "     train_pred=rf.predict(final_train)\n",
    "     test_pred=rf.predict(final_test)\n",
    "     print(\"Train Accuracy Score\",accuracy_score(train_pred,y_train))\n",
    "     print(\"Test Accuracy Score\",accuracy_score(test_pred,y_test))\n",
    "     train_accuracies.append(accuracy_score(train_pred,y_train))\n",
    "     test_accuracies.append(accuracy_score(test_pred,y_test))\n",
    "\n",
    "\n",
    "print(\"Train Accuracy Score\",np.mean(train_accuracies))\n",
    "print(\"Test Accuracy Score\",np.mean(test_accuracies))"
   ]
  },
  {
   "cell_type": "code",
   "execution_count": null,
   "metadata": {},
   "outputs": [],
   "source": []
  }
 ],
 "metadata": {
  "kernelspec": {
   "display_name": "jupyternotebook",
   "language": "python",
   "name": "jupyternotebook"
  },
  "language_info": {
   "codemirror_mode": {
    "name": "ipython",
    "version": 3
   },
   "file_extension": ".py",
   "mimetype": "text/x-python",
   "name": "python",
   "nbconvert_exporter": "python",
   "pygments_lexer": "ipython3",
   "version": "3.8.2"
  }
 },
 "nbformat": 4,
 "nbformat_minor": 2
}
